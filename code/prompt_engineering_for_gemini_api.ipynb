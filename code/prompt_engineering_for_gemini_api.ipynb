{
 "cells": [
  {
   "cell_type": "markdown",
   "id": "fc5f908f-540a-4fe7-aa4a-b79e870a1411",
   "metadata": {},
   "source": [
    "# Prompt Engineering for Gemini API Developers\n",
    "\n",
    "Google AI Studio and the Gemini API aren't available in all countries.\n",
    "Check if the Gemini API is available in your country at this address: \n",
    "https://ai.google.dev/available_regions"
   ]
  },
  {
   "cell_type": "code",
   "execution_count": 1,
   "id": "22acd320-1932-4ad6-899f-8d9a4e0f7466",
   "metadata": {},
   "outputs": [],
   "source": [
    "import os\n",
    "from dotenv import load_dotenv, find_dotenv\n",
    "# load environment variables from .env file (containing API key)\n",
    "load_dotenv(find_dotenv(), override=True)\n",
    "import google.generativeai as genai  # Import library for Gemini Pro API\n",
    "\n",
    "# function to generate a text response using Gemini Pro API\n",
    "def generate_response(prompt, temperature=1):\n",
    "    # configure API key\n",
    "    genai.configure(api_key=os.environ.get('GOOGLE_API_KEY'))\n",
    "    \n",
    "    # select the model with a generation configuration\n",
    "    model = genai.GenerativeModel('gemini-pro')\n",
    "    \n",
    "    generation_config = genai.types.GenerationConfig(\n",
    "        temperature=temperature, top_p=1, top_k=1\n",
    "    )\n",
    "    # make an generation API call to Gemini\n",
    "    response = model.generate_content(prompt, generation_config=generation_config)\n",
    "    # return the text responsed\n",
    "    return response.text"
   ]
  },
  {
   "cell_type": "code",
   "execution_count": 2,
   "id": "c9f16969-25eb-4f21-99a4-b5c3b7af48c2",
   "metadata": {
    "scrolled": true
   },
   "outputs": [
    {
     "name": "stdout",
     "output_type": "stream",
     "text": [
      "```python\n",
      "def factorial(n): \n",
      "    \"\"\"Calculates the factorial of a number.\n",
      "\n",
      "    Args:\n",
      "    n: The number to calculate the factorial of.\n",
      "\n",
      "    Returns:\n",
      "    The factorial of n.\n",
      "    \"\"\"\n",
      "\n",
      "    if n == 0:\n",
      "        return 1\n",
      "    else:\n",
      "        return n * factorial(n-1)\n",
      "```\n"
     ]
    }
   ],
   "source": [
    "print(generate_response('Create a Python function that calculates the factorial.'))"
   ]
  },
  {
   "cell_type": "markdown",
   "id": "ea13d898-1178-458c-b42b-5cd3d355a649",
   "metadata": {},
   "source": [
    "# Guidelines for effective prompting"
   ]
  },
  {
   "cell_type": "markdown",
   "id": "3d38c23a-b258-449a-88a5-6224fab005e1",
   "metadata": {},
   "source": [
    "##  Write clear and specific instructions (most important)"
   ]
  },
  {
   "cell_type": "code",
   "execution_count": 2,
   "id": "5044eb20-99a0-46b5-967d-dff61b882eb7",
   "metadata": {},
   "outputs": [
    {
     "name": "stdout",
     "output_type": "stream",
     "text": [
      "Nanotechnology, by manipulating matter at the atomic and molecular scale, is driving advancements across various domains, with profound impacts predicted in healthcare, materials science, and energy technologies. In healthcare, it holds the key to targeted drug delivery and more precise medical diagnostics. Scientists and engineers are developing innovative applications, from nano-engineered drug delivery systems to highly sensitive imaging techniques, and transforming healthcare outcomes.\n"
     ]
    }
   ],
   "source": [
    "text='''Embracing the atomic and molecular scale, nanotechnology stands as a transformative force, \n",
    "poised to reshape various industries and aspects of our lives. By manipulating matter at its most fundamental\n",
    "level, scientists and engineers are unlocking extraordinary properties, paving the way for innovative\n",
    "solutions to global challenges.\n",
    "In the healthcare domain, nanotechnology promises to revolutionize diagnostic and therapeutic approaches.\n",
    "Nanoparticles, tiny marvels measuring just a few nanometers in diameter, hold immense potential for targeted\n",
    "drug delivery. By skillfully engineering these particles, scientists can effectively transport therapeutic\n",
    "agents directly to diseased tissues, minimizing side effects and enhancing treatment efficacy.\n",
    "Additionally, nanotechnology-based imaging techniques provide unprecedented levels of cellular detail,\n",
    "enabling early detection and monitoring of diseases, transforming disease management and improving\n",
    "patient outcomes.'''\n",
    "\n",
    "prompt = f'''\n",
    "Summarize this text: {text}\n",
    "'''\n",
    "output = generate_response(prompt)\n",
    "print(output)"
   ]
  },
  {
   "cell_type": "markdown",
   "id": "f4792491-9fd3-42bc-a427-562377dc0442",
   "metadata": {},
   "source": [
    "### Tactic #1: \n",
    "Put instructions at the beginning of the prompt, each on their own line, and use delimiters to clearly indicate distinct parts of the prompt.\n",
    "\n",
    "Delimiters: **```, \"\"\", {}**"
   ]
  },
  {
   "cell_type": "code",
   "execution_count": 3,
   "id": "ce8d736d-02a4-4737-8aad-e19470afb20c",
   "metadata": {},
   "outputs": [
    {
     "name": "stdout",
     "output_type": "stream",
     "text": [
      "**Summary**\n",
      "\n",
      "Nanotechnology is a transformative force that has the potential to reshape various industries and aspects of our lives. It involves manipulating matter at the atomic and molecular scale to unlock extraordinary properties and create innovative solutions to global challenges. In the healthcare domain, nanotechnology promises to revolutionize diagnostic and therapeutic approaches, such as targeted drug delivery and nanotechnology-based imaging techniques. These advancements can lead to early detection and monitoring of diseases, improved treatment efficacy, and better patient outcomes.\n",
      "\n",
      "**German Translation**\n",
      "\n",
      "Die Nanotechnologie ist eine transformierende Kraft, die das Potenzial hat, verschiedene Branchen und Aspekte unseres Lebens neu zu gestalten. Sie umfasst die Manipulation von Materie auf atomarer und molekularer Ebene, um außergewöhnliche Eigenschaften freizusetzen und innovative Lösungen für globale Herausforderungen zu schaffen. Im Gesundheitsbereich verspricht die Nanotechnologie, diagnostische und therapeutische Ansätze zu revolutionieren, beispielsweise durch gezielte Wirkstofffreisetzung und bildgebende Verfahren auf der Grundlage der Nanotechnologie. Diese Fortschritte können zu einer frühzeitigen Erkennung und Überwachung von Krankheiten, einer verbesserten Wirksamkeit der Behandlung und besseren Patientenergebnissen führen.\n"
     ]
    }
   ],
   "source": [
    "prompt = f'''\n",
    "Summarize the text delimited by triple backtics.\n",
    "Translate the summary from English to German.\n",
    "Text: ```{text}```\n",
    "'''\n",
    "output = generate_response(prompt)\n",
    "print(output)"
   ]
  },
  {
   "cell_type": "markdown",
   "id": "cc69afa2-2912-4e51-b222-0f2c8e894a29",
   "metadata": {},
   "source": [
    "### Tactic #2\n",
    "\n",
    "Be specific, descriptive and as detailed as possible about the desired outcome, format or length."
   ]
  },
  {
   "cell_type": "code",
   "execution_count": 4,
   "id": "cee430b5-86c2-4d5c-b0cf-7ccda3536641",
   "metadata": {},
   "outputs": [
    {
     "name": "stdout",
     "output_type": "stream",
     "text": [
      "Nanotechnology harnesses matter at the atomic and molecular scale, promising transformative solutions in healthcare, with targeted drug delivery and enhanced imaging techniques.\n"
     ]
    }
   ],
   "source": [
    "prompt = f'''\n",
    "Summarize the text delimited by triple backtics in at most 40 words.\n",
    "Text: ```{text}```\n",
    "'''\n",
    "output = generate_response(prompt)\n",
    "print(output)"
   ]
  },
  {
   "cell_type": "code",
   "execution_count": 5,
   "id": "224065c2-c081-4640-8bf5-f9bf8a7c72e3",
   "metadata": {},
   "outputs": [
    {
     "name": "stdout",
     "output_type": "stream",
     "text": [
      "Summary length in words: 22\n"
     ]
    }
   ],
   "source": [
    "print(f'Summary length in words: {len(output.split())}')"
   ]
  },
  {
   "cell_type": "code",
   "execution_count": 8,
   "id": "6bfc70f7-d3cc-45e1-b5e8-ebe7aa25c5b0",
   "metadata": {},
   "outputs": [
    {
     "name": "stdout",
     "output_type": "stream",
     "text": [
      "Embracing the Lilliputian world of atoms and molecules, nanotechnology is a transformative power, standing ready to reshape multiple spheres of human endeavor. Nanotechnology's sphere of influence encompasses:\n",
      "\n",
      "* **Medical Miracles:**\n",
      "  * Nanoparticles as Trojan horses, carrying tiny treasures of medicines directly to sick tissue.\n",
      "  * Advanced imaging tools for disease diagnosis and management.\n",
      "* **Industrial Edge:**\n",
      "  * Enhanced materials with improved properties.\n",
      "  * Novel electronic circuitry.\n",
      "  * Nanotech's canny conduit, enabling more efficient emission control systems.\n",
      "\n",
      "At the core, nanotechnology is empowering scientists to engineer matter at its granular level, offering great promise for a better future.\n"
     ]
    }
   ],
   "source": [
    "prompt = f'''\n",
    "Summarize the text delimited by triple backtics.\n",
    "Begin the summary with an introductory sentence, followed by a bulleted list highlighting the key points.\n",
    "Conclude the summary with a sentence that synthesizes the central idea of the entire text.\n",
    "Text: ```{text}```\n",
    "'''\n",
    "output = generate_response(prompt)\n",
    "print(output)"
   ]
  },
  {
   "cell_type": "code",
   "execution_count": 9,
   "id": "239afd6f-0bb3-4198-8423-8c1dda773b74",
   "metadata": {
    "scrolled": true
   },
   "outputs": [
    {
     "name": "stdout",
     "output_type": "stream",
     "text": [
      "Here's an example of how you can read a text file using Python:\n",
      "\n",
      "```python\n",
      "# Open the text file for reading\n",
      "f = open(\"text_file.txt\",\"r\", encoding=\"utf-8\")\n",
      "\n",
      "# Read the entire contents of the file\n",
      "text = f.read()\n",
      "\n",
      "# Print the contents of the file\n",
      "print(text)\n",
      "\n",
      "# Close the file\n",
      "f.close()\n",
      "```\n",
      "\n",
      "In this code, we first open the text file named \"text_file.txt\" for reading using the open() function. The \"r\" parameter specifies that we want to open the file in read mode. We also specify the \"utf-8\" encoding to ensure that special characters are handled correctly.\n",
      "\n",
      "Then, we use the read() function to read the entire contents of the file into a string. Finally, we print the contents of the file using the print() function, and then we close the file using the close() function.\n",
      "\n",
      "You can also use a with statement to automatically close the file when you are done reading it:\n",
      "\n",
      "```python\n",
      "with open(\"text_file.txt\",\"r\", encoding=\"utf-8\") as f:\n",
      "    text = f.read()\n",
      "    print(text)\n",
      "```\n",
      "\n",
      "In this code, the with statement takes care of opening and closing the file automatically, so you don't need to worry about calling the close() function.\n"
     ]
    }
   ],
   "source": [
    "# good prompt\n",
    "prompt = 'Code to read a text file.'\n",
    "output = generate_response(prompt)\n",
    "print(output)"
   ]
  },
  {
   "cell_type": "code",
   "execution_count": 12,
   "id": "3f27cdae-4bf2-4d9d-9f3a-d7f27e194091",
   "metadata": {
    "scrolled": true
   },
   "outputs": [
    {
     "name": "stdin",
     "output_type": "stream",
     "text": [
      "Enter programming language:  Rust\n"
     ]
    },
    {
     "name": "stdout",
     "output_type": "stream",
     "text": [
      "```rust\n",
      "use std::fs::{File, OpenOptions};\n",
      "use std::io::{Read, Write};\n",
      "use std::path::Path;\n",
      "\n",
      "/// Reads a file at the specified path and returns its content as a string.\n",
      "///\n",
      "/// If the file does not exist, an appropriate error message is returned instead.\n",
      "///\n",
      "/// Args:\n",
      "///     file_path (str): The path to the file to be read.\n",
      "///\n",
      "/// Returns:\n",
      "///     Result<String, std::io::Error>:\n",
      "///         * Ok(String): The content of the file as a string.\n",
      "///         * Err(std::io::Error): An error if the file could not be read.\n",
      "pub fn read_file(file_path: &str) -> Result<String, std::io::Error> {\n",
      "    // Check if the file exists at the specified path.\n",
      "    let path = Path::new(file_path);\n",
      "    if !path.exists() {\n",
      "        // If the file does not exist, return an appropriate error message.\n",
      "        return Err(std::io::Error::new(std::io::ErrorKind::NotFound, \"File not found\"));\n",
      "    }\n",
      "    \n",
      "    // Open the file in read mode.\n",
      "    let mut file = OpenOptions::new()\n",
      "        .read(true)\n",
      "        .open(path)?;\n",
      "\n",
      "    // Create a buffer to hold the file's content.\n",
      "    let mut contents = String::new();\n",
      "\n",
      "    // Read the file's content into the buffer.\n",
      "    file.read_to_string(&mut contents)?;\n",
      "\n",
      "    // Return the file's content.\n",
      "    Ok(contents)\n",
      "}\n",
      "```\n"
     ]
    }
   ],
   "source": [
    "# better prompt\n",
    "language = input('Enter programming language: ')\n",
    "prompt = f'''Generate a concise and well-formatted {language} function that:\n",
    "1. Takes a file path as input.\n",
    "2. Checks if the file exists at the specified path.\n",
    "3. Reads the file's content as a string.\n",
    "4. Returns the file content, or an appropriate error message if the file is not found.\n",
    "\n",
    "Ensure the function includes:\n",
    "- Clear, concise and idiomatic variable names.\n",
    "- Meaningful comments to explain the code's logic.\n",
    "- A descriptive docstring that outlines the function's purpose, parameters, and return value.\n",
    "\n",
    "Adhere to {language} best practices for readability and maintainability.\n",
    "'''\n",
    "output = generate_response(prompt)\n",
    "print(output)"
   ]
  },
  {
   "cell_type": "markdown",
   "id": "238d17ef-a8ac-4a38-9218-5e3504839a28",
   "metadata": {},
   "source": [
    "### Tactic #3 \n",
    "\n",
    "Specify the response format."
   ]
  },
  {
   "cell_type": "code",
   "execution_count": 3,
   "id": "3760ac13-d86c-4ead-8460-b1614ceda9c4",
   "metadata": {
    "scrolled": true
   },
   "outputs": [
    {
     "name": "stdout",
     "output_type": "stream",
     "text": [
      "```html\n",
      "<!DOCTYPE html>\n",
      "<html>\n",
      "<head>\n",
      "  <title>A Beacon of Hope: Eleanor Roosevelt: A Positive Force in the 20th Century</title>\n",
      "</head>\n",
      "<body>\n",
      "  <h1>Eleanor Roosevelt: A Positive Force in the 20th Century</h1>\n",
      "\n",
      "  <p>\n",
      "    In the vast panorama of history, certain individuals emerge as beacons of hope, leaving an indelible imprint on the world. Eleanor Roosevelt, the longest-serving First Lady of the United States, stands tall among these luminaries. Her unwavering dedication to human rights, social justice, and international diplomacy made her an iconic figure of the 20th century.\n",
      "  </p>\n",
      "\n",
      "  <p>\n",
      "    Born into privilege, Eleanor Roosevelt could have easily chosen a life of leisure. Yet, she defied societal expectations and embarked on a remarkable journey of public service. As First Lady, she tirelessly championed the causes of the marginalized, advocating for civil rights, women’s rights, and economic equality. Her speeches, press conferences, and radio broadcasts brought these issues to the forefront of national discourse, challenging long-held prejudices and paving the way for positive change.\n",
      "  </p>\n",
      "\n",
      "  <p>\n",
      "    Eleanor Roosevelt's influence extended far beyond the White House. She served as a delegate to the United Nations, where she played a key role in drafting the Universal Declaration of Human Rights, a landmark document that has inspired countless human rights movements around the world. Her unwavering commitment to peace and understanding led her to travel extensively, meeting with world leaders and ordinary citizens alike, fostering dialogue and promoting cross-cultural understanding. \n",
      "  </p>\n",
      "\n",
      "  <p>\n",
      "    Despite facing personal adversity and political setbacks, Eleanor Roosevelt never wavered in her pursuit of a more just and equitable world. Her unwavering optimism, even in the darkest of times, inspired millions and continues to serve as a source of hope and inspiration to this day.\n",
      "  </p>\n",
      "\n",
      "  <p>\n",
      "    As we reflect on the life and legacy of Eleanor Roosevelt, we are reminded of the profound impact that one individual can have on the course of history. Her unwavering belief in the power of human compassion and her tireless efforts to create a better world for all stand as a testament to the enduring strength of the human spirit.\n",
      "  </p>\n",
      "</body>\n",
      "</html>\n",
      "```\n"
     ]
    }
   ],
   "source": [
    "format = 'HTML 5'\n",
    "prompt = f'''\n",
    "Craft a captivating blog post about one emblematic and positive figure of the last century.\n",
    "Give it a title and limit the blog post to 5 paragraphs.\n",
    "Format the output as {format}\n",
    "\n",
    "Ensure the blog post includes:\n",
    "- an introduction, a main part and a summary.\n",
    "- emphasize clear and engaging writing, suitable for a general audience.\n",
    "- ensure factual accuracy and respectful representation of historical events and figures.\n",
    "- include interesting facts that pique users' curiosity.\n",
    "- avoid biased opinions.\n",
    "'''\n",
    "output = generate_response(prompt)\n",
    "print(output)"
   ]
  },
  {
   "cell_type": "code",
   "execution_count": 4,
   "id": "0af83ce1-8086-4215-8615-2a05a7a29b30",
   "metadata": {
    "scrolled": true
   },
   "outputs": [
    {
     "data": {
      "text/html": [
       "```html\n",
       "<!DOCTYPE html>\n",
       "<html>\n",
       "<head>\n",
       "  <title>A Beacon of Hope: Eleanor Roosevelt: A Positive Force in the 20th Century</title>\n",
       "</head>\n",
       "<body>\n",
       "  <h1>Eleanor Roosevelt: A Positive Force in the 20th Century</h1>\n",
       "\n",
       "  <p>\n",
       "    In the vast panorama of history, certain individuals emerge as beacons of hope, leaving an indelible imprint on the world. Eleanor Roosevelt, the longest-serving First Lady of the United States, stands tall among these luminaries. Her unwavering dedication to human rights, social justice, and international diplomacy made her an iconic figure of the 20th century.\n",
       "  </p>\n",
       "\n",
       "  <p>\n",
       "    Born into privilege, Eleanor Roosevelt could have easily chosen a life of leisure. Yet, she defied societal expectations and embarked on a remarkable journey of public service. As First Lady, she tirelessly championed the causes of the marginalized, advocating for civil rights, women’s rights, and economic equality. Her speeches, press conferences, and radio broadcasts brought these issues to the forefront of national discourse, challenging long-held prejudices and paving the way for positive change.\n",
       "  </p>\n",
       "\n",
       "  <p>\n",
       "    Eleanor Roosevelt's influence extended far beyond the White House. She served as a delegate to the United Nations, where she played a key role in drafting the Universal Declaration of Human Rights, a landmark document that has inspired countless human rights movements around the world. Her unwavering commitment to peace and understanding led her to travel extensively, meeting with world leaders and ordinary citizens alike, fostering dialogue and promoting cross-cultural understanding. \n",
       "  </p>\n",
       "\n",
       "  <p>\n",
       "    Despite facing personal adversity and political setbacks, Eleanor Roosevelt never wavered in her pursuit of a more just and equitable world. Her unwavering optimism, even in the darkest of times, inspired millions and continues to serve as a source of hope and inspiration to this day.\n",
       "  </p>\n",
       "\n",
       "  <p>\n",
       "    As we reflect on the life and legacy of Eleanor Roosevelt, we are reminded of the profound impact that one individual can have on the course of history. Her unwavering belief in the power of human compassion and her tireless efforts to create a better world for all stand as a testament to the enduring strength of the human spirit.\n",
       "  </p>\n",
       "</body>\n",
       "</html>\n",
       "```"
      ],
      "text/plain": [
       "<IPython.core.display.HTML object>"
      ]
     },
     "metadata": {},
     "output_type": "display_data"
    }
   ],
   "source": [
    "from IPython.display import display, HTML\n",
    "display(HTML(output))"
   ]
  },
  {
   "cell_type": "code",
   "execution_count": 5,
   "id": "99950eda-963f-4325-8f6a-e739d334067c",
   "metadata": {},
   "outputs": [
    {
     "name": "stdout",
     "output_type": "stream",
     "text": [
      "I. Genesis of the European Union\n",
      "A. WWII's devastating consequences and the need for reconciliation\n",
      "B. Schuman Plan (1950): The foundation of the European Coal and Steel Community (ECSC)\n",
      "1. Aimed to pool coal and steel resources under a common management, eliminating rivalry\n",
      "2. Six founding member states: West Germany, France, Italy, Belgium, Netherlands, Luxembourg\n",
      "\n",
      "II. The Rome Treaties (1957)\n",
      "A. Signed in Rome, advanced the ECSC objectives and established two new communities:\n",
      "1. European Economic Community (EEC): focused on economic integration, common market\n",
      "2. European Atomic Energy Community (Euratom): focused on nuclear energy cooperation\n",
      "\n",
      "III. The 1960s: Expanding the Union's Scope\n",
      "A. Merger of Communities (1967): ECSC, EEC, and Euratom merged into a single European Communities (EC)\n",
      "B. Enlargement: Denmark, Ireland, and the United Kingdom joined the EC in 1973\n",
      "\n",
      "IV. Deepening Integration: The Single European Act (1986)\n",
      "A. Aim: Strengthen the EC's internal market and foster cooperation in various policy areas\n",
      "B. Significant changes:\n",
      "1. introduced qualified majority voting in specific areas\n",
      "2. increased the role of the European Parliament\n",
      "\n",
      "V. The 1990s: Maastricht Treaty and European Union\n",
      "A. Maastricht Treaty (1992): A landmark agreement that established the European Union (EU)\n",
      "B. Key features:\n",
      "1. Created a single European currency: the Euro\n",
      "2. Extended cooperation in areas like monetary policy, justice, and policing\n",
      "3. Formalized the EU citizenship concept\n",
      "4. Created a common foreign and security policy\n",
      "\n",
      "VI. Further Enlargement: The EU's Expansion to the East (2004-2013)\n",
      "A. Several countries from Eastern and Southern Europe joined the EU in multiple waves\n",
      "B. By 2013, the EU had grown to include 28 member states\n",
      "\n",
      "VII. Challenges and Crises:\n",
      "A. Eurozone Crisis (2007-2013): A period of economic turmoil marked by sovereign debt crises, bailouts, and austerity measures\n",
      "B. Brexit: The United Kingdom's decision to leave the EU in 2016, posing significant political and economic implications\n",
      "\n",
      "VIII. Recent Developments and Current Issues\n",
      "A. Response to Migration and Refugee Crisis in Europe\n",
      "B. Impact of the COVID-19 Pandemic and Economic Challenges\n",
      "C. Future of the EU: Debating deeper integration or potential reconfigurations\n",
      "\n",
      "IX. Conclusion\n",
      "A. Recap of the EU's history, challenges, and successes\n",
      "B. EU's current state and future prospects\n"
     ]
    }
   ],
   "source": [
    "prompt = '''\n",
    "Create an outline for an Essay about the History of the EU.\n",
    "'''\n",
    "output = generate_response(prompt)\n",
    "print(output)"
   ]
  },
  {
   "cell_type": "code",
   "execution_count": 18,
   "id": "fe65db38-65dd-4210-b897-ca812a9426a5",
   "metadata": {
    "scrolled": true
   },
   "outputs": [
    {
     "name": "stdout",
     "output_type": "stream",
     "text": [
      "I. Introduction\n",
      "    A. Definition of the European Union (EU)\n",
      "        1. Political and economic union of 27 member states located primarily in Europe\n",
      "    B. Historical Context\n",
      "        1. Post-World War II efforts to promote European integration and cooperation\n",
      "\n",
      "II. The Early Years (1951-1967)\n",
      "    A. The European Coal and Steel Community (ECSC)\n",
      "        1. Established by the Treaty of Paris in 1951\n",
      "        2. Aimed to integrate the coal and steel industries of France, Germany, Italy, Belgium, Luxembourg, and the Netherlands\n",
      "    B. The Treaty of Rome (1957)\n",
      "        1. Signed by the six founding members of the ECSC\n",
      "        2. Established the European Economic Community (EEC) and the European Atomic Energy Community (Euratom)\n",
      "\n",
      "III. Expansion and Consolidation (1968-1985)\n",
      "    A. The First Enlargement (1973)\n",
      "        1. Denmark, Ireland, and the United Kingdom join the EEC\n",
      "    B. The Single European Act (1986)\n",
      "        1. Aimed to create a single market within the EEC by 1993\n",
      "\n",
      "IV. The Maastricht Treaty and the Birth of the EU (1987-1993)\n",
      "    A. The Maastricht Treaty (1992)\n",
      "        1. Signed by the 12 member states of the EEC\n",
      "        2. Established the European Union (EU)\n",
      "        3. Introduced the concept of a common currency, the euro\n",
      "    B. The Schengen Agreement (1985)\n",
      "        1. Aimed to abolish border controls between certain EU member states\n",
      "\n",
      "V. Further Enlargement and Challenges (1994-Present)\n",
      "    A. The Eastern Enlargement (2004-2007)\n",
      "        1. Ten new member states from Central and Eastern Europe join the EU\n",
      "    B. The Lisbon Treaty (2007)\n",
      "        1. Amended the Maastricht Treaty and established a more efficient and democratic EU\n",
      "    C. Recent Challenges\n",
      "        1. The Eurozone crisis\n",
      "        2. The rise of populism and Euroscepticism\n",
      "        3. Brexit\n",
      "\n",
      "VI. Conclusion\n",
      "    A. The EU's Achievements\n",
      "        1. Economic integration, peace, and stability\n",
      "    B. Remaining Challenges and the Future of the EU\n",
      "        1. The need for further integration and reform\n",
      "        2. Managing the ongoing refugee crisis\n",
      "        3. Maintaining the balance between national sovereignty and European unity\n"
     ]
    }
   ],
   "source": [
    "prompt = '''\n",
    "Create an outline for an Essay about the History of the EU.\n",
    "I. Introduction\n",
    "    A.\n",
    "        1.\n",
    "    B.\n",
    "        1.\n",
    "'''\n",
    "output = generate_response(prompt)\n",
    "print(output)"
   ]
  },
  {
   "cell_type": "code",
   "execution_count": 7,
   "id": "6f695a89-ffbb-478e-9bfe-96c66bc7b754",
   "metadata": {
    "scrolled": true
   },
   "outputs": [
    {
     "name": "stdout",
     "output_type": "stream",
     "text": [
      "```json\n",
      "{\n",
      " \"countries\": [\n",
      "  {\n",
      "   \"name\": \"Russia\",\n",
      "   \"area\": 17075200\n",
      "  },\n",
      "  {\n",
      "   \"name\": \"Canada\",\n",
      "   \"area\": 9984670\n",
      "  },\n",
      "  {\n",
      "   \"name\": \"China\",\n",
      "   \"area\": 9596961\n",
      "  },\n",
      "  {\n",
      "   \"name\": \"United States\",\n",
      "   \"area\": 9372610\n",
      "  },\n",
      "  {\n",
      "   \"name\": \"Brazil\",\n",
      "   \"area\": 8515767\n",
      "  },\n",
      "  {\n",
      "   \"name\": \"Australia\",\n",
      "   \"area\": 7692024\n",
      "  },\n",
      "  {\n",
      "   \"name\": \"India\",\n",
      "   \"area\": 3287263\n",
      "  },\n",
      "  {\n",
      "   \"name\": \"Argentina\",\n",
      "   \"area\": 2780400\n",
      "  },\n",
      "  {\n",
      "   \"name\": \"Kazakhstan\",\n",
      "   \"area\": 2724900\n",
      "  },\n",
      "  {\n",
      "   \"name\": \"Algeria\",\n",
      "   \"area\": 2381741\n",
      "  }\n",
      " ]\n",
      "}\n",
      "```\n"
     ]
    }
   ],
   "source": [
    "prompt = '''\n",
    "List the top 10 countries by total area in the world.\n",
    "JSON:\n",
    "'''\n",
    "output = generate_response(prompt)\n",
    "print(output)"
   ]
  },
  {
   "cell_type": "markdown",
   "id": "ed7551ee-3514-48b5-b5d5-711fb64d7df3",
   "metadata": {},
   "source": [
    "### Tactic #4 - Few-Shot Prompting\n",
    "\n",
    "**Few-Shot Prompting**  provides a small number of examples to guide the language model."
   ]
  },
  {
   "cell_type": "code",
   "execution_count": 3,
   "id": "32e4135d-099f-4411-81a8-614de24b5a3b",
   "metadata": {
    "scrolled": true
   },
   "outputs": [
    {
     "name": "stdout",
     "output_type": "stream",
     "text": [
      "The sky is blue due to a phenomenon called Rayleigh scattering. This scattering effect occurs when sunlight interacts with the molecules in the atmosphere. The molecules in the atmosphere, mainly nitrogen and oxygen, are much smaller than the wavelengths of visible light.\n",
      "\n",
      "When sunlight strikes these molecules, it is scattered in all directions. However, the scattering is wavelength-dependent, with shorter wavelengths (blue light) being scattered more than longer wavelengths (red light). This differential scattering is due to the way that the molecules in the atmosphere vibrate.\n",
      "\n",
      "As sunlight passes through the atmosphere, the blue light is scattered more than the other colors, causing it to spread out in all directions. This scattered blue light is what we see when we look up at the sky.\n",
      "\n",
      "The amount of scattering depends on several factors, including the wavelength of light, the number of molecules in the atmosphere, and the temperature of the air. At sea level, the air is densest and contains more molecules per unit volume. This results in more scattering of sunlight and a bluer sky. As altitude increases, the air becomes thinner, and there are fewer molecules to scatter light. This results in less scattering and a sky that appears less blue and more white.\n",
      "\n",
      "The time of day also affects the color of the sky. At sunrise and sunset, when the sun is lower in the sky, sunlight has to travel through more of the atmosphere to reach our eyes. This greater distance allows for more scattering of sunlight, resulting in a sky that appears more red or orange.\n"
     ]
    }
   ],
   "source": [
    "prompt = 'Why is the sky blue?'\n",
    "output = generate_response(prompt)\n",
    "print(output)"
   ]
  },
  {
   "cell_type": "code",
   "execution_count": 4,
   "id": "1391ae99-c40e-457c-95a6-d4867e5cca9c",
   "metadata": {},
   "outputs": [
    {
     "name": "stdout",
     "output_type": "stream",
     "text": [
      "Scattering of sunlight by molecules in the atmosphere.\n"
     ]
    }
   ],
   "source": [
    "prompt = '''\n",
    "User: What is the cause of earthquakes?\n",
    "Model: Sudden release of energy in the Earth's crust.\n",
    "\n",
    "User: Whey is the sky blu?\n",
    "Model:\n",
    "'''\n",
    "output = generate_response(prompt)\n",
    "print(output)"
   ]
  },
  {
   "cell_type": "code",
   "execution_count": 10,
   "id": "06048a27-74ef-4b67-b522-79436a29a87e",
   "metadata": {
    "scrolled": true
   },
   "outputs": [
    {
     "name": "stdout",
     "output_type": "stream",
     "text": [
      "1. **Size and Mass:** The Sun is a star at the center of our solar system. It is immensely vast, with a mass of approximately 1.989 × 10^30 kilograms, accounting for over 99% of the mass in our solar system. Its sheer size and mass make it responsible for the gravitational pull that keeps the planets and other celestial bodies in their orbits.\n",
      "\n",
      "2. **Composition:** The Sun is primarily composed of hydrogen (~73%), helium (~25%), and trace amounts of other elements, including carbon, nitrogen, oxygen, neon, silicon, magnesium, iron, and more. Hydrogen in the Sun's core undergoes a process called nuclear fusion, where it fuses into helium, releasing enormous amounts of energy that power the Sun and sustain life on Earth.\n",
      "\n",
      "3. **Temperature and Brightness:** The Sun's surface, known as the photosphere, has an effective temperature of approximately 5,778 Kelvin (5,505 degrees Celsius or 9,941 degrees Fahrenheit). It radiates energetic and visible light in the form of solar radiation, which reaches Earth in about 8 minutes, illuminating our day and providing energy for various natural processes.\n",
      "\n",
      "4. **Structure and Layers:** The Sun's structure consists of several layers, with the core at its center. The core is where fusion reactions occur. The layers then progress outward to the radiative zone, where energy is transported by photons, and the convective zone, where heat transfer occurs through the movement of heated gases. These are followed by the photosphere, chromosphere, and corona, which are part of the Sun's atmosphere.\n",
      "\n",
      "5. **Solar Activity:** The Sun goes through periods of activity, including sunspots, solar flares, coronal mass ejections (CMEs), and solar storms. Sunspots are temporary dark areas on the Sun's photosphere caused by strong magnetic fields. Solar flares are sudden, intense bursts of energy and radiation released from the Sun's atmosphere. CMEs are massive expulsions of plasma and magnetic fields from the Sun's corona. Solar storms can affect Earth, disrupting communications, power grids, and potentially causing auroras.\n",
      "\n",
      "6. **Solar Cycles:** The Sun's activity varies in an approximately 11-year cycle, known as the solar cycle. This cycle involves changes in sunspot numbers, solar flares, and other phenomena. During solar maximum, activity is high, and during solar minimum, activity is low. Understanding the solar cycle is crucial in predicting and mitigating the effects of solar storms on Earth's infrastructure and technology.\n",
      "\n",
      "7. **Source of Life:** The Sun's energy is essential for life on Earth. It sustains the process of photosynthesis, through which plants convert sunlight into chemical energy. This energy then flows through the food chain, supporting a vast network of life. Solar radiation also drives weather patterns, controls climate, and contributes to the formation of atmospheric gases necessary for life.\n"
     ]
    }
   ],
   "source": [
    "prompt = '''Tell me something about the Moon.'''\n",
    "output = generate_response(prompt)\n",
    "print(output)"
   ]
  },
  {
   "cell_type": "code",
   "execution_count": 6,
   "id": "cf2308a3-019d-48cd-b151-c3784c871144",
   "metadata": {},
   "outputs": [
    {
     "name": "stdout",
     "output_type": "stream",
     "text": [
      "A fiery ball of brilliance, radiating life throughout its celestial domain, like a king ruling over his vast kingdom of planets.\n"
     ]
    }
   ],
   "source": [
    "prompt = '''\n",
    "User: Tell me something about the Moon.\n",
    "Model: A silver coin spun by the cosmos, forever orbiting between dreams and dawn.\n",
    "\n",
    "User: Tell me something about the Sun.\n",
    "Model:\n",
    "'''\n",
    "output = generate_response(prompt)\n",
    "print(output)"
   ]
  },
  {
   "cell_type": "markdown",
   "id": "af2f2b62-94c8-4a7a-8a7b-02a5fb75c686",
   "metadata": {},
   "source": [
    "### Tactic #5 - Specify the steps required to complete a task"
   ]
  },
  {
   "cell_type": "code",
   "execution_count": 5,
   "id": "eb435fad-4e61-4735-b939-c5eea6db6dbd",
   "metadata": {
    "scrolled": true
   },
   "outputs": [
    {
     "name": "stdout",
     "output_type": "stream",
     "text": [
      "In the heart of a desolate and forgotten wilderness, there lived a fearsome dragon named Ignis. His scales shimmered like molten gold, casting an ominous glow upon the surrounding lands. His breath, a torrent of scorching flames, could reduce entire villages to ash in a matter of moments. Ignis was a creature of legend, both revered and reviled, his name striking terror into the hearts of all who dared to venture near his lair.\n",
      "\n",
      "Unbeknownst to Ignis, a valiant knight named Sir Tristan had undertaken a perilous quest to slay the dragon and free the kingdom from its clutches. Tristan was a man of unwavering courage and unwavering determination, his heart filled with the desire to protect the innocent and vanquish evil. Clad in shining armor and brandishing a gleaming sword, Tristan embarked on his journey, his footsteps leading him deeper into the untamed wilderness.\n",
      "\n",
      "As Tristan ventured through the treacherous landscape, he encountered numerous obstacles: treacherous ravines, dense forests filled with hidden dangers, and encounters with wild and untamed creatures. Yet, through it all, he pressed on, his resolve unyielding.\n",
      "\n",
      "Finally, after many arduous days of travel, Tristan reached the foot of the towering mountain where Ignis dwelled. The air crackled with tension as Tristan slowly made his way up the winding path, his senses heightened, ready for any sign of movement. The mountain seemed to tremble beneath his feet, as if it sensed the approaching confrontation.\n",
      "\n",
      "At long last, Tristan stood before the dragon's lair, an imposing structure carved into the rock face. The entrance was shrouded in darkness, casting an eerie silence over the surrounding area. Tristan took a deep breath, steeling himself for the battle that lay ahead.\n",
      "\n",
      "With a mighty roar, Ignis emerged from his lair, his blazing eyes piercing the gloom. The earth shook under the weight of his colossal form, sending tremors through the very ground. Tristan charged forward, his sword raised, meeting the dragon's fiery onslaught with unwavering determination.\n",
      "\n",
      "The battle that ensued was one of epic proportions. The clash of steel against scales rang through the air, accompanied by the furious roars of the dragon and the determined cries of the knight. Flames danced across the battlefield, illuminating the fierce struggle between these two legendary warriors.\n",
      "\n",
      "Despite the dragon's immense power and fearsome attacks, Tristan's skill and courage prevailed. With a final, decisive strike, he plunged his sword into Ignis' heart. The dragon let out a deafening roar before collapsing to the ground, its once-fiery eyes dimming and fading into darkness.\n",
      "\n",
      "As the last embers of the battle faded, Tristan stood victorious, his sword still raised. The weight of the quest he had undertaken lifted from his weary shoulders, replaced by a profound sense of fulfillment. He had slain the dragon and freed the kingdom from its tyranny, leaving only tales and legends to remind the world of the fearsome beast that once held dominion over these lands.\n",
      "\n",
      "And so, the story of Sir Tristan's triumph over the dragon Ignis was passed down through generations, a tale of bravery, honor, and the unwavering spirit of a knight who dared to challenge the darkness and emerged victorious.\n"
     ]
    }
   ],
   "source": [
    "prompt = 'Write a short story about a dragon and knight.'\n",
    "output = generate_response(prompt)\n",
    "print(output)"
   ]
  },
  {
   "cell_type": "code",
   "execution_count": 13,
   "id": "baa1c0ff-273e-4d0b-85ef-352979d3024f",
   "metadata": {},
   "outputs": [
    {
     "name": "stdout",
     "output_type": "stream",
     "text": [
      "In a realm where knights and dragons coexisted, Sir Gideon met Veridian, a dragon accused of stealing treasure. Despite the villagers' demands for vengeance, Gideon listened to Veridian's pleas and discovered a group of bandits framing the dragon. Gideon, riding his loyal steed, challenged the bandits, successfully drove them away, and restored Veridian's honor, ultimately uniting the dragon and the knight as unlikely allies.\n"
     ]
    }
   ],
   "source": [
    "prompt = '''\n",
    "Write a short story about a dragon and a knight in five sentences.\n",
    "\n",
    "Follow these steps:\n",
    "1. Introduce the main characters and the setting in the first sentence.\n",
    "2. Describe the conflict or the problem that the characters face in the second sentence.\n",
    "3. Show how the characters try to solve the problem or overcome the conflict in the third and fourth sentences.\n",
    "4. Write the resolution or the outcome of the story in the fifth sentence.\n",
    "'''\n",
    "output = generate_response(prompt)\n",
    "print(output)\n"
   ]
  },
  {
   "cell_type": "code",
   "execution_count": 14,
   "id": "e06bda0a-b534-455c-9158-722ef4a4954b",
   "metadata": {},
   "outputs": [
    {
     "name": "stdout",
     "output_type": "stream",
     "text": [
      "**Breakfast**\n",
      "\n",
      "*Whole Wheat Toast with Almond Butter and Banana*: Toast whole wheat bread and spread with almond butter. Top with sliced banana and a drizzle of honey.\n",
      " *Greek Yogurt with Fruits and Nuts*: In a bowl, mix Greek yogurt with chopped apples, bananas, and walnuts. Sprinkle with honey or cinnamon.\n",
      " *Scrambled Eggs with Avocado and Whole Wheat Toast*: Scramble eggs with diced avocado and cherry tomatoes. Serve with whole wheat toast.\n",
      "\n",
      "**Lunch**\n",
      "\n",
      "*Chicken Salad with Whole Wheat Bun*: Mix cooked chicken, diced celery, onion, mayo, and seasonings. Serve on a whole wheat bun with lettuce and tomato.\n",
      " *Brown Rice Bowl with Grilled Chicken and Vegetables*: Cook brown rice and top with grilled chicken, roasted broccoli, and steamed carrots. Drizzle with olive oil and herbs.\n",
      " *Garden Salad with Grilled Chicken and Feta Cheese*: Toss together mixed greens, tomatoes, cucumbers, and crumbled feta cheese. Top with grilled chicken and a drizzle of balsamic vinaigrette.\n",
      "\n",
      "**Dinner**\n",
      "\n",
      "*Baked Herb-Crusted Chicken with Roasted Vegetables*: Bake chicken breasts coated in herbs, lemon juice, and olive oil. Roast vegetables such as carrots, potatoes, and zucchini alongside the chicken.\n",
      " *Chicken Stir-Fry with Brown Rice*: Stir-fry chicken with your favorite vegetables in a sauce made with soy sauce, ginger, and garlic. Serve over brown rice.\n",
      " *Salmon with Roasted Vegetables and Quinoa*: Bake salmon fillets with lemon slices and herbs. Roast vegetables such as broccoli, asparagus, and bell peppers. Serve with quinoa.\n",
      " *Whole Wheat Pasta with Chicken and Vegetables*: Cook whole wheat pasta according to package instructions. Sauté chicken with vegetables in a sauce made with tomato sauce, basil, and Parmesan cheese. Toss the pasta with the sauce and serve with grated Parmesan cheese.\n"
     ]
    }
   ],
   "source": [
    "ingredients = '''chicken, vegetables, rice, dairy products, nuts, fruits (apples and bananas),\n",
    "avocado, salads, bread, butter, olive oil'''\n",
    "prompt = f'''\n",
    "Craft a healthy daily meal plan for breakfat, lunch and dinner using these ingredients: ```{ingredients}```.\n",
    "'''\n",
    "output = generate_response(prompt)\n",
    "print(output)"
   ]
  },
  {
   "cell_type": "code",
   "execution_count": 15,
   "id": "72d3b620-36cb-462d-bb69-4ec99048577e",
   "metadata": {
    "scrolled": true
   },
   "outputs": [
    {
     "name": "stdout",
     "output_type": "stream",
     "text": [
      "```html\n",
      "<!DOCTYPE html>\n",
      "<html>\n",
      "<head>\n",
      "  <title>Healthy Daily Meal Plan</title>\n",
      "  <style>\n",
      "    body {\n",
      "      font-family: Arial, sans-serif;\n",
      "    }\n",
      "\n",
      "    h1 {\n",
      "      font-size: 1.5em;\n",
      "      margin-bottom: 10px;\n",
      "    }\n",
      "\n",
      "    h2 {\n",
      "      font-size: 1.2em;\n",
      "      margin-bottom: 5px;\n",
      "    }\n",
      "\n",
      "    ul {\n",
      "      list-style-type: none;\n",
      "      padding: 0;\n",
      "    }\n",
      "\n",
      "    li {\n",
      "      margin-bottom: 5px;\n",
      "    }\n",
      "\n",
      "    .calorie-count {\n",
      "      font-size: 0.8em;\n",
      "      color: #666;\n",
      "    }\n",
      "  </style>\n",
      "</head>\n",
      "<body>\n",
      "  <h1>Healthy Daily Meal Plan</h1>\n",
      "\n",
      "  <!-- Breakfast -->\n",
      "  <h2>Breakfast: Apple Cinnamon Oatmeal with Chicken Sausage</h2>\n",
      "  <ul>\n",
      "    <li>1/2 cup old-fashioned oats</li>\n",
      "    <li>1 cup water</li>\n",
      "    <li>1/2 cup unsweetened almond milk</li>\n",
      "    <li>1/4 cup chopped apple</li>\n",
      "    <li>1/4 teaspoon ground cinnamon</li>\n",
      "    <li>Pinch of salt</li>\n",
      "    <li>2 chicken sausages, cooked and sliced</li>\n",
      "  </ul>\n",
      "  <p><strong>Instructions:</strong></p>\n",
      "  <ol>\n",
      "    <li>In a medium saucepan, combine the oats, water, almond milk, apple, cinnamon, and salt.</li>\n",
      "    <li>Bring to a boil over medium heat, stirring occasionally.</li>\n",
      "    <li>Reduce heat to low, cover, and simmer for 5 minutes, or until the oats are tender and the liquid has been absorbed.</li>\n",
      "    <li>Stir in the cooked chicken sausage.</li>\n",
      "    <li>Serve immediately.</li>\n",
      "  </ol>\n",
      "  <p class=\"calorie-count\">Total Calories: 350</p>\n",
      "\n",
      "  <!-- Lunch -->\n",
      "  <h2>Lunch: Grilled Chicken Salad with Avocado Dressing</h2>\n",
      "  <ul>\n",
      "    <li>4 cups mixed salad greens</li>\n",
      "    <li>1/2 grilled chicken breast, sliced</li>\n",
      "    <li>1/2 avocado, sliced</li>\n",
      "    <li>1/4 cup cherry tomatoes, halved</li>\n",
      "    <li>1/4 cup crumbled feta cheese</li>\n",
      "    <li>1 tablespoon olive oil</li>\n",
      "    <li>1 tablespoon lemon juice</li>\n",
      "    <li>1/4 teaspoon salt</li>\n",
      "    <li>1/4 teaspoon black pepper</li>\n",
      "  </ul>\n",
      "  <p><strong>Instructions:</strong></p>\n",
      "  <ol>\n",
      "    <li>In a large bowl, combine the salad greens, chicken, avocado, tomatoes, and feta cheese.</li>\n",
      "    <li>In a small bowl, whisk together the olive oil, lemon juice, salt, and pepper.</li>\n",
      "    <li>Pour the dressing over the salad and toss to coat.</li>\n",
      "    <li>Serve immediately.</li>\n",
      "  </ol>\n",
      "  <p class=\"calorie-count\">Total Calories: 400</p>\n",
      "\n",
      "  <!-- Dinner -->\n",
      "  <h2>Dinner: Chicken Stir-Fry with Brown Rice</h2>\n",
      "  <ul>\n",
      "    <li>1 pound boneless, skinless chicken breasts, cut into 1-inch pieces</li>\n",
      "    <li>1 tablespoon olive oil</li>\n",
      "    <li>1/2 onion, chopped</\n"
     ]
    }
   ],
   "source": [
    "output_format = 'HTML 5 with CSS'\n",
    "kcal = 2000\n",
    "prompt = f'''\n",
    "Craft a healthy daily meal plan for breakfast, lunch, and dinner\n",
    "using the following ingredients: `{ingredients}`.\n",
    "\n",
    "Follow these instructions carefully:\n",
    "### Instructions:\n",
    "1. Utilize ONLY the provided ingredients, along with salt, pepper, and spices.\n",
    "2. Clearly state the exact amount of each ingredient.\n",
    "3. Ensure that the total daily calorie intake remains under {kcal}.\n",
    "4. For each meal, explain each recipe step by step, using clear and concise sentences. Use bullet points or numbers to organize the steps.\n",
    "5. For each meal, specify the total calorie count.\n",
    "6. Provide a concise and descriptive title for each meal that encapsulates the primary ingredients and flavors.\n",
    "7. Separate the recipes by inserting 50 dashes (-).\n",
    "8. Your output should be in the {output_format} format.\n",
    "\n",
    "Before responding, ensure that you have strictly followed the instructions outlined above (points 1 to 8).\n",
    "'''\n",
    "output = generate_response(prompt)\n",
    "print(output)"
   ]
  },
  {
   "cell_type": "code",
   "execution_count": 16,
   "id": "cb614932-b1eb-4de9-8869-8cec768b769e",
   "metadata": {},
   "outputs": [
    {
     "data": {
      "text/html": [
       "```html\n",
       "<!DOCTYPE html>\n",
       "<html>\n",
       "<head>\n",
       "  <title>Healthy Daily Meal Plan</title>\n",
       "  <style>\n",
       "    body {\n",
       "      font-family: Arial, sans-serif;\n",
       "    }\n",
       "\n",
       "    h1 {\n",
       "      font-size: 1.5em;\n",
       "      margin-bottom: 10px;\n",
       "    }\n",
       "\n",
       "    h2 {\n",
       "      font-size: 1.2em;\n",
       "      margin-bottom: 5px;\n",
       "    }\n",
       "\n",
       "    ul {\n",
       "      list-style-type: none;\n",
       "      padding: 0;\n",
       "    }\n",
       "\n",
       "    li {\n",
       "      margin-bottom: 5px;\n",
       "    }\n",
       "\n",
       "    .calorie-count {\n",
       "      font-size: 0.8em;\n",
       "      color: #666;\n",
       "    }\n",
       "  </style>\n",
       "</head>\n",
       "<body>\n",
       "  <h1>Healthy Daily Meal Plan</h1>\n",
       "\n",
       "  <!-- Breakfast -->\n",
       "  <h2>Breakfast: Apple Cinnamon Oatmeal with Chicken Sausage</h2>\n",
       "  <ul>\n",
       "    <li>1/2 cup old-fashioned oats</li>\n",
       "    <li>1 cup water</li>\n",
       "    <li>1/2 cup unsweetened almond milk</li>\n",
       "    <li>1/4 cup chopped apple</li>\n",
       "    <li>1/4 teaspoon ground cinnamon</li>\n",
       "    <li>Pinch of salt</li>\n",
       "    <li>2 chicken sausages, cooked and sliced</li>\n",
       "  </ul>\n",
       "  <p><strong>Instructions:</strong></p>\n",
       "  <ol>\n",
       "    <li>In a medium saucepan, combine the oats, water, almond milk, apple, cinnamon, and salt.</li>\n",
       "    <li>Bring to a boil over medium heat, stirring occasionally.</li>\n",
       "    <li>Reduce heat to low, cover, and simmer for 5 minutes, or until the oats are tender and the liquid has been absorbed.</li>\n",
       "    <li>Stir in the cooked chicken sausage.</li>\n",
       "    <li>Serve immediately.</li>\n",
       "  </ol>\n",
       "  <p class=\"calorie-count\">Total Calories: 350</p>\n",
       "\n",
       "  <!-- Lunch -->\n",
       "  <h2>Lunch: Grilled Chicken Salad with Avocado Dressing</h2>\n",
       "  <ul>\n",
       "    <li>4 cups mixed salad greens</li>\n",
       "    <li>1/2 grilled chicken breast, sliced</li>\n",
       "    <li>1/2 avocado, sliced</li>\n",
       "    <li>1/4 cup cherry tomatoes, halved</li>\n",
       "    <li>1/4 cup crumbled feta cheese</li>\n",
       "    <li>1 tablespoon olive oil</li>\n",
       "    <li>1 tablespoon lemon juice</li>\n",
       "    <li>1/4 teaspoon salt</li>\n",
       "    <li>1/4 teaspoon black pepper</li>\n",
       "  </ul>\n",
       "  <p><strong>Instructions:</strong></p>\n",
       "  <ol>\n",
       "    <li>In a large bowl, combine the salad greens, chicken, avocado, tomatoes, and feta cheese.</li>\n",
       "    <li>In a small bowl, whisk together the olive oil, lemon juice, salt, and pepper.</li>\n",
       "    <li>Pour the dressing over the salad and toss to coat.</li>\n",
       "    <li>Serve immediately.</li>\n",
       "  </ol>\n",
       "  <p class=\"calorie-count\">Total Calories: 400</p>\n",
       "\n",
       "  <!-- Dinner -->\n",
       "  <h2>Dinner: Chicken Stir-Fry with Brown Rice</h2>\n",
       "  <ul>\n",
       "    <li>1 pound boneless, skinless chicken breasts, cut into 1-inch pieces</li>\n",
       "    <li>1 tablespoon olive oil</li>\n",
       "    <li>1/2 onion, chopped</"
      ],
      "text/plain": [
       "<IPython.core.display.HTML object>"
      ]
     },
     "metadata": {},
     "output_type": "display_data"
    }
   ],
   "source": [
    "from IPython.display import display, HTML\n",
    "display(HTML(output))"
   ]
  },
  {
   "cell_type": "markdown",
   "id": "df1c96bc-5882-4d9c-a729-5da40a05ca5a",
   "metadata": {},
   "source": [
    "### Tactic #6 - Give Models Time to \"Think\""
   ]
  },
  {
   "cell_type": "code",
   "execution_count": 17,
   "id": "1f38875a-d750-4918-a81b-e6370e27b6ed",
   "metadata": {
    "scrolled": true
   },
   "outputs": [
    {
     "name": "stdout",
     "output_type": "stream",
     "text": [
      "1. **High-Yield Savings Account**: Open a high-yield savings account with a reputable bank or credit union and deposit your $1000. High-yield accounts offer higher interest rates than traditional savings accounts, allowing you to earn more from your money.\n",
      "\n",
      "2. **Certificates of Deposit (CDs)**: CDs are time deposits offered by banks and credit unions. When you deposit your money in a CD, you agree to lock it for a specific term, usually ranging from several months to years. In return for committing your funds, you typically receive a higher interest rate than a savings account. CDs are a low-risk investment option that can help you save and grow your money over time.\n",
      "\n",
      "3. **Money Market Account**: Money market accounts are low-risk, FDIC-insured accounts that combine features of checking and savings accounts. They offer higher interest rates than traditional checking accounts and allow you to make limited withdrawals with a checkbook, debit card, or pre-authorized transfers.\n",
      "\n",
      "4. **Robo-Advisors**: Robo-advisors are online platforms that provide automated portfolio management services. They allocate your investments across various asset classes and manage the portfolio based on your goals, risk tolerance, and time horizon. Robo-advisors typically charge lower fees than traditional financial advisors, making them an option for investors with small portfolios.\n",
      "\n",
      "5. **Real Estate Crowdfunding**: Crowdfunding platforms allow multiple investors to pool their money to finance real estate projects. You can invest in real estate through these platforms with relatively small amounts of money and potentially earn returns from rental income, property appreciation, or a combination of both.\n",
      "\n",
      "6. **Peer-to-Peer Lending**: Peer-to-peer lending platforms enable you to lend your money to borrowers directly. In return, you earn interest payments on the loans you make. Carefully evaluate your investments and choose borrowers with good credit scores to minimize the risk of default.\n",
      "\n",
      "7. **Low-Cost Index Funds**: Index funds are baskets of stocks or bonds that track a specific market index, such as the S&P 500. Investing in index funds provides you with broad market diversification and low costs. You can invest in index funds through online brokerages or robo-advisor platforms.\n",
      "\n",
      "8. **Fractional Shares**: Fractional shares allow you to buy portions of shares of a company, even if the share price is high. This enables you to invest in more expensive companies with your limited funds and still participate in their growth potential.\n",
      "\n",
      "9. **Automated Investing Platforms**: Several apps and platforms offer automated investing services. They help you set up a regular investment schedule and invest your money in a diversified portfolio of stocks or index funds. Automated investing is a convenient and low-maintenance way to invest for your financial goals.\n"
     ]
    }
   ],
   "source": [
    "prompt = 'What is the best way to invest $1000?'\n",
    "output = generate_response(prompt)\n",
    "print(output)"
   ]
  },
  {
   "cell_type": "code",
   "execution_count": 18,
   "id": "01967869-ac51-477d-8463-9655f0282828",
   "metadata": {
    "scrolled": true
   },
   "outputs": [
    {
     "name": "stdout",
     "output_type": "stream",
     "text": [
      "**Option 1: Savings account**\n",
      "\n",
      "* Initial investment: $1000\n",
      "* Interest rate: 1% per year\n",
      "* Return on investment after one year: $1000 * 1% = $10\n",
      "\n",
      "**Option 2: Stock**\n",
      "\n",
      "* Initial investment: $1000\n",
      "* Dividend yield: 5% per year\n",
      "* Chance of increasing or decreasing in value by 10%: 50%\n",
      "* Possible returns after one year:\n",
      "\n",
      "  - Stock increases in value by 10%: $1000 * 1.10 = $1100\n",
      "  - Stock decreases in value by 10%: $1000 * 0.90 = $900\n",
      "\n",
      "* Expected return after one year:\n",
      "\n",
      "  - (0.5 * $1100) + (0.5 * $900) = $1000\n",
      "\n",
      "**Option 3: Cryptocurrency**\n",
      "\n",
      "* Initial investment: $1000\n",
      "* Chance of doubling in value: 25%\n",
      "* Chance of halving in value: 25%\n",
      "* Possible returns after one year:\n",
      "\n",
      "  - Cryptocurrency doubles in value: $1000 * 2 = $2000\n",
      "  - Cryptocurrency halves in value: $1000 * 0.5 = $500\n",
      "\n",
      "* Expected return after one year:\n",
      "\n",
      "  - (0.25 * $2000) + (0.25 * $500) = $625\n",
      "\n",
      "**Conclusion:**\n",
      "\n",
      "Based on the expected returns, the stock is the best investment option. It has a higher expected return than the savings account and a lower risk than the cryptocurrency. The cryptocurrency has the highest potential return, but it is also the riskiest. The savings account has the lowest risk, but it also has the lowest expected return.\n"
     ]
    }
   ],
   "source": [
    "prompt = '''\n",
    "Suppose you have $1000 that you want to invest for one year.\n",
    "You are looking for a high return on your investment, but you are also willing to take some risk.\n",
    "You have three options: \n",
    "- a savings account that pays 1% interest per year;\n",
    "- a stock that pays 5% dividend per year and has a 50% chance of increasing or decreasing in value by 10%;\n",
    "- a cryptocurrency that has a 25% chance of doubling or halving in value by the end of the year;\n",
    "\n",
    "Which option would you choose and why?\n",
    "Explain your reasoning and show your calculations in depth.\n",
    "'''\n",
    "output = generate_response(prompt)\n",
    "print(output)"
   ]
  },
  {
   "cell_type": "code",
   "execution_count": 19,
   "id": "0c84b3dc-e02a-4329-bb1e-227e5cb84d28",
   "metadata": {
    "scrolled": true
   },
   "outputs": [
    {
     "name": "stdout",
     "output_type": "stream",
     "text": [
      "The psychological effects of solitary confinement, or prolonged isolation, on the human mind can be severe and long-lasting, especially if the confinement is for a significant period of time. Here are some potential impacts:\n",
      "\n",
      "**1. Cognitive Function Impairments:**\n",
      "\n",
      "- **Impaired Attention and Concentration:** Prolonged isolation can lead to difficulty focusing and maintaining attention. Cognitive processes, such as decision-making and problem-solving abilities, may also be impaired.\n",
      "\n",
      "- **Memory Impairments:** Memory formation and retention can be affected, resulting in difficulty recalling information and forming new memories.\n",
      "\n",
      "- **Reduced Mental Flexibility:** Being in isolation for a long time can lead to decreased mental flexibility, making it harder to adapt to changing circumstances and problem-solve creatively.\n",
      "\n",
      "**2. Emotional Distress:**\n",
      "\n",
      "- **Depression and Anxiety:** Prolonged isolation is often associated with feelings of hopelessness, worthlessness, and helplessness, contributing to depression and anxiety disorders.\n",
      "\n",
      "- **Emotional Dysregulation:** Individuals in solitary confinement may experience extreme mood swings and difficulty managing their emotions, leading to impulsive and self-destructive behaviors.\n",
      "\n",
      "- **Fear and Paranoia:** Being isolated can heighten feelings of fear and mistrust, causing individuals to become hypervigilant and perceive threats even when there aren't any.\n",
      "\n",
      "**3. Social and Relational Difficulties:**\n",
      "\n",
      "- **Social Withdrawal:** People subjected to solitary confinement can experience social withdrawal, becoming disinterested in maintaining relationships with others, even after being released.\n",
      "\n",
      "- **Impaired Social Skills:** Prolonged isolation can lead to a deterioration of social skills, making it harder for individuals to engage in meaningful conversations and interactions with others.\n",
      "\n",
      "- **Difficulties Trusting Others:** Being in solitary confinement may lead to difficulties trusting others, making it harder to form new relationships or maintain existing ones.\n",
      "\n",
      "**4. Identity Disturbances:**\n",
      "\n",
      "- **Loss of Self:** Individuals in solitary confinement often experience a loss of sense of self, questioning their identity and purpose in life.\n",
      "\n",
      "- **Depersonalization and Derealization:** Experiencing a sense of unreality, where one feels detached from their own body and thoughts, or the environment around them.\n",
      "\n",
      "**5. Psychosis-Like Symptoms:**\n",
      "\n",
      "- **Hallucinations and Delusions:** Prolonged solitary confinement has been linked to an increased risk of developing hallucinations and delusions, which can lead to further psychological distress and impairment.\n",
      "\n",
      "**6. Impact on Personality:**\n",
      "\n",
      "- **Aggression and Violence:** Solitary confinement can contribute to increased aggression and violence, both towards oneself and others.\n",
      "\n",
      "- **Antisocial Behavior:** Extended isolation has been associated with the development of antisocial behavior, characterized by a disregard for social norms and a lack of empathy for others.\n",
      "\n",
      "It's important to recognize that the psychological effects of solitary confinement can vary depending on an individual's resilience, coping mechanisms, and the length of time spent in isolation. Access to support and rehabilitation programs upon release can play a crucial role in helping individuals recover from the psychological trauma they have endured.\n"
     ]
    }
   ],
   "source": [
    "prompt = '''\n",
    "Explain the psychological effects of solitary confinement on the human mind, \n",
    "including its potential impact on cognitive function, emotional well-being, and social interactions.\n",
    "'''\n",
    "output = generate_response(prompt)\n",
    "print(output)"
   ]
  },
  {
   "cell_type": "code",
   "execution_count": 20,
   "id": "e16ef1e4-87c5-47bc-a27b-7113167aec72",
   "metadata": {
    "scrolled": true
   },
   "outputs": [
    {
     "name": "stdout",
     "output_type": "stream",
     "text": [
      "**Cognitive Function:**\n",
      "\n",
      "* **Impaired Attention and Concentration:** Individuals in solitary confinement often experience difficulty focusing and concentrating. The lack of external stimuli and social interaction can lead to mental fogginess, decreased alertness, and an inability to sustain attention for extended periods.\n",
      "\n",
      "\n",
      "* **Memory Deficits:** Memory function can also be affected by solitary confinement. Studies have shown that individuals subjected to prolonged isolation have difficulty encoding and recalling information. This can impair their ability to learn new things and to retain information over time.\n",
      "\n",
      "\n",
      "* **Cognitive Rigidity:** Solitary confinement can lead to cognitive rigidity, a tendency to hold on to fixed beliefs and ideas and an inability to adapt to changing circumstances. Cognitive rigidity makes it difficult for individuals to solve problems, make decisions, and learn from their mistakes.\n",
      "\n",
      "\n",
      "**Emotional Well-Being:**\n",
      "\n",
      "* **Depression and Anxiety:** Solitary confinement is a highly stressful experience that can lead to depression and anxiety. Individuals in solitary confinement may feel hopeless, worthless, and overwhelmed. They may also experience intense anxiety, panic attacks, and difficulty sleeping.\n",
      "\n",
      "\n",
      "* **Mood Swings:** Mood swings are common among individuals in solitary confinement. They may experience sudden shifts from periods of intense sadness to moments of anger, irritability, or agitation. These mood swings can be unpredictable and difficult to manage.\n",
      "\n",
      "\n",
      "* **Emotional Detachment:** Prolonged isolation can lead to emotional detachment, a state of emotional numbness and indifference. Individuals in solitary confinement may feel disconnected from their own emotions and those of others. They may lose the ability to express their feelings verbally or through facial expressions.\n",
      "\n",
      "\n",
      "**Social Interactions:**\n",
      "\n",
      "* **Social Withdrawal and Isolation:** Solitary confinement by design isolates individuals from social contact. This deprivation of social interaction can lead to social withdrawal and isolation, making it difficult for individuals to form and maintain relationships.\n",
      "\n",
      "\n",
      "* **Difficulty Trusting Others:** The experience of solitary confinement can make it difficult for individuals to trust others. They may feel betrayed and abandoned by the system and may become suspicious of others' intentions.\n",
      "\n",
      "\n",
      "* **Impaired Social Skills:** Solitary confinement can lead to impaired social skills. Individuals who have been in solitary confinement may find it difficult to interact with others in a socially appropriate manner. They may lack the ability to read social cues, communicate effectively, and cooperate with others.\n"
     ]
    }
   ],
   "source": [
    "prompt = '''\n",
    "Please take a moment to consider this prompt and gather relevant information from your knowledge base.\n",
    "Once you have done so, please provide a detailed explanation of the psychological effects of\n",
    "solitary confinement on the human mind.\n",
    "Your response should address the impact of solitary confinement on cognitive function, emotional well-being,\n",
    "and social interactions.\n",
    "'''\n",
    "output = generate_response(prompt)\n",
    "print(output)"
   ]
  },
  {
   "cell_type": "markdown",
   "id": "01a99809-cc2a-491d-96ba-233e14953533",
   "metadata": {},
   "source": [
    "### Other Tactics for Better Prompting"
   ]
  },
  {
   "cell_type": "markdown",
   "id": "921c2560-dcf9-405b-a5d1-98ad7e8fe330",
   "metadata": {},
   "source": [
    "#### 1. Reduce vague and ambiguous descriptions"
   ]
  },
  {
   "cell_type": "code",
   "execution_count": 22,
   "id": "d5b1174f-18c8-413f-9c1b-40dd89288276",
   "metadata": {
    "scrolled": true
   },
   "outputs": [
    {
     "name": "stdout",
     "output_type": "stream",
     "text": [
      "In a realm where visions swirl, and dreams take flight,\n",
      "Behold a tale of wonders, cool and bright.\n",
      "Where icy streams cascade down mountains grand,\n",
      "And frost-kissed leaves enchant the silent land.\n",
      "\n",
      "In moonlit glades, where fireflies dance,\n",
      "A symphony of coolness weaves a trance.\n",
      "A chilling breeze, like whispers soft and keen,\n",
      "Caresses skin, refreshing, serene.\n",
      "\n",
      "Beneath the starry canopy of night,\n",
      "The air is crisp, a borealis's light.\n",
      "Paint colors dancing on nature's expanse,\n",
      "A celestial glow, a cosmic chance.\n",
      "\n",
      "Cool mint, eucalyptus, scented rain,\n",
      "Invigorating senses, erasing pain.\n",
      "Glaciers aglow with iridescent hues,\n",
      "Refracting colors, nature's secret imbues.\n",
      "\n",
      "In frozen caves, where wonder hides away,\n",
      "Ice crystals gleam, like diamonds in display.\n",
      "Stalactites and stalagmites meet in embrace,\n",
      "An icy wonder, untouched by time's chase.\n",
      "\n",
      "Frozen rivers, like ribbons of glass,\n",
      "Flow ever onward, an enduring mass.\n",
      "They murmur stories of frigid embrace,\n",
      "Where winter's hand has left its icy trace.\n",
      "\n",
      "Cool cucumber and aloe Vera's touch,\n",
      "Soothing the soul, soothing the clutch.\n",
      "A plunge into a crystal azure sea,\n",
      "Reviving weary minds, setting spirits free.\n",
      "\n",
      "Cascades of waterfalls, a misty display,\n",
      "Where water dances in a rhythmic ballet.\n",
      "Their roar a symphony, an enchanting sound,\n",
      "As water, like a rapid, spins and spins around.\n",
      "\n",
      "In Arctic lands, where snow and ice prevail,\n",
      "A cool tranquility, an ethereal veil.\n",
      "Polar bears roam vast frozen plains,\n",
      "Their coats a shield, in frosty domains.\n",
      "\n",
      "Penguins play on ice floes, sleek and proud,\n",
      "Their icy home they cherish and endow.\n",
      "Orcas glide through frigid ocean swells,\n",
      "Their presence a symbol of beauty, it compels.\n",
      "\n",
      "Cool mountains beckon, their peaks untouched,\n",
      "Inviting climbers with a challenge clutched.\n",
      "Raging rivers, in canyons they flow,\n",
      "A spectacle of nature's untamed show.\n",
      "\n",
      "Beneath an ancient oak's expansive shade,\n",
      "A moment of solace, in nature's embrace.\n",
      "The wind through leaves creating a soothing tune,\n",
      "A symphony of coolness, nature's cool boon.\n",
      "\n",
      "So seek the cool, when fevered and distraught,\n",
      "Let its embrace your weary spirit unsought.\n",
      "In coolness, find respite, tranquility, and peace,\n",
      "For in its presence, true wonders never cease.\n",
      "\n",
      "****************************************************************************************************\n",
      "\n",
      "Shimmering curtains\n",
      "Dance across the sky above\n",
      "Night's vibrant ballet\n"
     ]
    }
   ],
   "source": [
    "# not so good prompt\n",
    "prompt = 'Write a poem about something cool.'\n",
    "output = generate_response(prompt)\n",
    "print(output)\n",
    "\n",
    "print('\\n' + '*' * 100 + '\\n')\n",
    "\n",
    "# better prompt\n",
    "prompt = '''\n",
    "Write a haiku poem about the northern lights.\n",
    "A haiku is a type of poem that has three lines, with five, seven, and five syllables each.\n",
    "The northern lights are a natural phenomenon that creates colorful lights in the sky near the polar regions.\n",
    "'''\n",
    "output = generate_response(prompt)\n",
    "print(output)"
   ]
  },
  {
   "cell_type": "markdown",
   "id": "e2368062-8cd4-4c59-b615-838d8c38973e",
   "metadata": {},
   "source": [
    "#### 2. Don't user negative patterns (the word \"not\")"
   ]
  },
  {
   "cell_type": "code",
   "execution_count": null,
   "id": "b9da2192-315a-4c2b-a3cc-1ff58dd5a654",
   "metadata": {},
   "outputs": [],
   "source": [
    "# bad prompt\n",
    "prompt = '''\n",
    "Generate a short story based on the title: ```Moon Landing Challenges```.\n",
    "Don’t write a story that is longer than 500 words or that has more than 3 characters.\n",
    "'''\n",
    "\n",
    "# good prompt\n",
    "prompt = '''\n",
    "Generate a short story based on the title: ```Moon Landing Challenges```.\n",
    "Write a story that is less than 500 words and that has at most 3 characters.\n",
    "'''\n",
    "\n",
    "# bad prompt \n",
    "prompt = '''\n",
    "Generate a tweet containing a random joke.\n",
    "Don’t use any hashtags or mentions or bad words.\n",
    "'''\n",
    "\n",
    "# good prompt\n",
    "prompt = '''\n",
    "Generate a tweet containing a random joke.\n",
    "Use only plain text and express your opinion or emotion in a polite manner.\n",
    "'''"
   ]
  },
  {
   "cell_type": "markdown",
   "id": "369757e2-8eda-434e-8747-ec2c4be46acd",
   "metadata": {},
   "source": [
    "#### 3. Avoid Hallucinations Using Guarding"
   ]
  },
  {
   "cell_type": "code",
   "execution_count": 23,
   "id": "90055d27-544a-4569-8a65-25e9755511f2",
   "metadata": {
    "scrolled": true
   },
   "outputs": [
    {
     "name": "stdout",
     "output_type": "stream",
     "text": [
      "## **FlexiFit Wireless Earbuds by Zeno: Experience Unparalleled Comfort and Exceptional Audio Performance** ##\n",
      "\n",
      "**Introduction:**\n",
      "\n",
      "In the realm of wireless earbuds, the search for superior audio quality, unparalleled comfort, and seamless connectivity remains an ongoing pursuit. The FlexiFit Wireless Earbuds by Zeno emerge as a game-changer in this competitive landscape, redefining the expectations of discerning audio enthusiasts. With their meticulous design, pioneering features, and cutting-edge technology, these earbuds offer an immersive auditory journey like no other.\n",
      "\n",
      "**Unmatched Comfort:**\n",
      "\n",
      "The FlexiFit Wireless Earbuds prioritize user comfort above all else. Their innovative design boasts interchangeable ear tips in various sizes, ensuring a perfect fit for every ear shape. The lightweight construction and ergonomic form factor ensure hours of fatigue-free listening, making them an ideal companion for commutes, workouts, and extended periods of audio enjoyment.\n",
      "\n",
      "**Exceptional Audio Performance:**\n",
      "\n",
      "The FlexiFit Wireless Earbuds produce exceptional audio quality that rivals higher-priced competitors. Their high-fidelity dynamic drivers deliver crisp highs, detailed mids, and deep, resonant bass, capturing the full spectrum of musical nuances. Whether you prefer classical symphonies, energetic pop anthems, or immersive movie soundtracks, these earbuds will transport you to an auditory realm of exquisite clarity and richness.\n",
      "\n",
      "**Superior Connectivity and Seamless Functionality:**\n",
      "\n",
      "The FlexiFit Wireless Earbuds employ the latest Bluetooth 5.0 technology, guaranteeing a stable and uninterrupted connection to your smartphone or other Bluetooth-enabled devices. Seamless pairing and effortless music control are at your fingertips through the intuitive touch controls integrated into the earbuds. Take calls, adjust volume, skip tracks, and activate your device's voice assistant with just a tap or swipe.\n",
      "\n",
      "**Long-Lasting Battery Life and Rapid Charging:** \n",
      "\n",
      "The FlexiFit Wireless Earbuds boast an impressive battery life of up to 8 hours of playback on a single charge, ensuring uninterrupted listening throughout the day. Additionally, the included charging case extends the total playtime to an incredible 24 hours. Moreover, the case supports rapid charging, providing up to 2 hours of playback with just 15 minutes of charging.\n",
      "\n",
      "**Additional Features and Accessories:**\n",
      "\n",
      "* **Water and Sweat Resistance:** The FlexiFit Wireless Earbuds feature IPX4 water and sweat resistance, making them perfect for outdoor activities and workouts. \n",
      "* **Built-in Microphone:** The integrated microphone enables crystal-clear voice calls and seamless communication with your virtual assistants. \n",
      "* **Carrying Case:** A sleek and compact carrying case is included, ensuring safe storage and portability of your earbuds and charging case. \n",
      "\n",
      "**Conclusion:**\n",
      "\n",
      "The FlexiFit Wireless Earbuds by Zeno represent the pinnacle of audio technology, comfort, and connectivity. Their exceptional audio quality, long-lasting battery life, and user-centric design make them an ideal choice for audiophiles, fitness enthusiasts, and anyone seeking a truly immersive auditory experience. Whether you're conquering your fitness goals, navigating your daily commute, or simply seeking moments of pure audio bliss, the FlexiFit Wireless Earbuds are the perfect companion on your sonic journey.\n"
     ]
    }
   ],
   "source": [
    "product = 'FlexiFit Wireless Earbuds by Zeno.'\n",
    "prompt = f'''\n",
    "Write an article about: {product}.\n",
    "'''\n",
    "output = generate_response(prompt)\n",
    "print(output)"
   ]
  },
  {
   "cell_type": "code",
   "execution_count": 24,
   "id": "45698168-4252-4105-bcbe-35733894f365",
   "metadata": {},
   "outputs": [
    {
     "name": "stdout",
     "output_type": "stream",
     "text": [
      "I have no information about this.\n"
     ]
    }
   ],
   "source": [
    "prompt = f'''\n",
    "Write an article about ```{product}```.\n",
    "Write only facts about this product according sources such as Wikipedia, Google Scholar, Britannica or other \n",
    "relible public sources.\n",
    "Avoid speculative or fictional content.\n",
    "If you don't find information in reliable sources, just respond with \"I have no information about this.\"\n",
    "'''\n",
    "output = generate_response(prompt)\n",
    "print(output)"
   ]
  },
  {
   "cell_type": "code",
   "execution_count": null,
   "id": "0b996c42-b06a-4596-807f-82f78ad86363",
   "metadata": {},
   "outputs": [],
   "source": []
  }
 ],
 "metadata": {
  "kernelspec": {
   "display_name": "Python 3 (ipykernel)",
   "language": "python",
   "name": "python3"
  },
  "language_info": {
   "codemirror_mode": {
    "name": "ipython",
    "version": 3
   },
   "file_extension": ".py",
   "mimetype": "text/x-python",
   "name": "python",
   "nbconvert_exporter": "python",
   "pygments_lexer": "ipython3",
   "version": "3.10.12"
  }
 },
 "nbformat": 4,
 "nbformat_minor": 5
}
