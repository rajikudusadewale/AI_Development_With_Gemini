{
 "cells": [
  {
   "cell_type": "markdown",
   "id": "43466317-31c0-4093-b6cd-b26890697dad",
   "metadata": {},
   "source": [
    "## Building Chat Conversations\n",
    "\n",
    "Google AI Studio and the Gemini API aren't available in all countries.\n",
    "Check if the Gemini API is available in your country at this address: \n",
    "https://ai.google.dev/available_regions\n"
   ]
  },
  {
   "cell_type": "code",
   "execution_count": 1,
   "id": "a62d8715-277d-46a4-ae0c-16e2b35ac613",
   "metadata": {},
   "outputs": [],
   "source": [
    "# importing the libraries.\n",
    "import google.generativeai as genai\n",
    "import os\n",
    "from dotenv import load_dotenv, find_dotenv\n",
    "\n",
    "# loading the API key from .env and authenticating to Gemini.\n",
    "load_dotenv(find_dotenv(), override=True)\n",
    "os.environ.get('GOOGLE_API_KEY')\n",
    "\n",
    "# configuring the API key.\n",
    "genai.configure(api_key=os.environ.get('GOOGLE_API_KEY'))"
   ]
  },
  {
   "cell_type": "code",
   "execution_count": 2,
   "id": "ea7bf083-3042-4165-91b2-75e7172b3128",
   "metadata": {},
   "outputs": [
    {
     "data": {
      "text/plain": [
       "ChatSession(\n",
       "    model=genai.GenerativeModel(\n",
       "        model_name='models/gemini-pro',\n",
       "        generation_config={},\n",
       "        safety_settings={},\n",
       "        tools=None,\n",
       "        system_instruction=None,\n",
       "    ),\n",
       "    history=[]\n",
       ")"
      ]
     },
     "execution_count": 2,
     "metadata": {},
     "output_type": "execute_result"
    }
   ],
   "source": [
    "model = genai.GenerativeModel('gemini-pro')\n",
    "\n",
    "# creating a ChatSession object\n",
    "# use the model.start_chat() method instead of model.generate_content() to start a multi-turn conversation\n",
    "chat = model.start_chat(history=[])  \n",
    "chat"
   ]
  },
  {
   "cell_type": "code",
   "execution_count": 3,
   "id": "4f249923-51fa-445d-9c13-c6d4638b1c18",
   "metadata": {},
   "outputs": [],
   "source": [
    "response = chat.send_message('In one paragraph, explain how the Internet works to a beginner.')"
   ]
  },
  {
   "cell_type": "code",
   "execution_count": 4,
   "id": "62413701-f982-4485-be72-079b59616190",
   "metadata": {
    "scrolled": true
   },
   "outputs": [
    {
     "data": {
      "text/plain": [
       "[parts {\n",
       "   text: \"In one paragraph, explain how the Internet works to a beginner.\"\n",
       " }\n",
       " role: \"user\",\n",
       " parts {\n",
       "   text: \"The Internet is a vast network of connected computers that allows information and data to be shared and exchanged globally. It functions through the transmission of data packets, which contain information broken into smaller chunks. These packets are sent from one computer to another through a series of routers and switches, which act as traffic directors, directing the packets along the most efficient path towards their destination. When the packets reach their target computer, they are reassembled to form the original message or data. This process is made possible by a system of unique IP addresses assigned to each device connected to the Internet, allowing for the identification and routing of packets to the correct destination.\"\n",
       " }\n",
       " role: \"model\"]"
      ]
     },
     "execution_count": 4,
     "metadata": {},
     "output_type": "execute_result"
    }
   ],
   "source": [
    "# displaying the entire chat history\n",
    "chat.history"
   ]
  },
  {
   "cell_type": "code",
   "execution_count": 7,
   "id": "19806e48-20d8-42d0-8266-ae81547862b9",
   "metadata": {
    "scrolled": true
   },
   "outputs": [
    {
     "data": {
      "text/plain": [
       "parts {\n",
       "  text: \"In one paragraph, explain how the Internet works to a beginner.\"\n",
       "}\n",
       "role: \"user\""
      ]
     },
     "execution_count": 7,
     "metadata": {},
     "output_type": "execute_result"
    }
   ],
   "source": [
    "# displaying the first user's question\n",
    "chat.history[0]"
   ]
  },
  {
   "cell_type": "code",
   "execution_count": 8,
   "id": "ed52f2f9-b6af-44c8-9dbd-571b36b0ac71",
   "metadata": {
    "scrolled": true
   },
   "outputs": [
    {
     "data": {
      "text/plain": [
       "parts {\n",
       "  text: \"The Internet is a vast network of connected computers that allows information and data to be shared and exchanged globally. It functions through the transmission of data packets, which contain information broken into smaller chunks. These packets are sent from one computer to another through a series of routers and switches, which act as traffic directors, directing the packets along the most efficient path towards their destination. When the packets reach their target computer, they are reassembled to form the original message or data. This process is made possible by a system of unique IP addresses assigned to each device connected to the Internet, allowing for the identification and routing of packets to the correct destination.\"\n",
       "}\n",
       "role: \"model\""
      ]
     },
     "execution_count": 8,
     "metadata": {},
     "output_type": "execute_result"
    }
   ],
   "source": [
    "# displaying the model's response\n",
    "chat.history[1]"
   ]
  },
  {
   "cell_type": "code",
   "execution_count": 9,
   "id": "789e1ae9-7dc1-4e22-91e7-e0ee701344ea",
   "metadata": {
    "scrolled": true
   },
   "outputs": [
    {
     "data": {
      "text/plain": [
       "'The Internet is a vast network of connected computers that allows information and data to be shared and exchanged globally. It functions through the transmission of data packets, which contain information broken into smaller chunks. These packets are sent from one computer to another through a series of routers and switches, which act as traffic directors, directing the packets along the most efficient path towards their destination. When the packets reach their target computer, they are reassembled to form the original message or data. This process is made possible by a system of unique IP addresses assigned to each device connected to the Internet, allowing for the identification and routing of packets to the correct destination.'"
      ]
     },
     "execution_count": 9,
     "metadata": {},
     "output_type": "execute_result"
    }
   ],
   "source": [
    "chat.history[1].parts[0].text"
   ]
  },
  {
   "cell_type": "code",
   "execution_count": 10,
   "id": "f7f74365-cb08-4818-bf60-d44ca9a687be",
   "metadata": {},
   "outputs": [],
   "source": [
    "# sending another prompt for the same conversation\n",
    "response = chat.send_message('Okay, how about a more detailed explanation about the IP addresses?')"
   ]
  },
  {
   "cell_type": "code",
   "execution_count": 11,
   "id": "5237a7ff-8696-4345-9e2e-c1eddc701fb6",
   "metadata": {
    "scrolled": true
   },
   "outputs": [
    {
     "data": {
      "text/plain": [
       "[parts {\n",
       "   text: \"In one paragraph, explain how the Internet works to a beginner.\"\n",
       " }\n",
       " role: \"user\",\n",
       " parts {\n",
       "   text: \"The Internet is a vast network of connected computers that allows information and data to be shared and exchanged globally. It functions through the transmission of data packets, which contain information broken into smaller chunks. These packets are sent from one computer to another through a series of routers and switches, which act as traffic directors, directing the packets along the most efficient path towards their destination. When the packets reach their target computer, they are reassembled to form the original message or data. This process is made possible by a system of unique IP addresses assigned to each device connected to the Internet, allowing for the identification and routing of packets to the correct destination.\"\n",
       " }\n",
       " role: \"model\",\n",
       " parts {\n",
       "   text: \"Okay, how about a more detailed explanation about the IP addresses?\"\n",
       " }\n",
       " role: \"user\",\n",
       " parts {\n",
       "   text: \"An IP address (Internet Protocol address) is a unique numerical label assigned to each device connected to a computer network that uses the Internet Protocol for communication. It serves two main functions: host or network interface identification and location addressing.\\n\\nIP addresses are expressed in a dotted-decimal format, consisting of four numbers separated by periods. Each number represents an octet, which is a group of eight binary digits. For example, the IP address \\\"192.168.1.1\\\" represents the binary number \\\"11000000.10101000.00000001.00000001\\\".\\n\\nIP addresses are categorized into two main types: IPv4 and IPv6. IPv4 is the most widely used version and uses 32-bit addresses, allowing for approximately 4.3 billion unique addresses. However, due to the rapid growth of the Internet and the increasing number of connected devices, IPv6 was developed to provide a much larger address space. IPv6 uses 128-bit addresses, allowing for an essentially limitless number of unique addresses.\\n\\nIP addresses are assigned to devices by network administrators or through a process called Dynamic Host Configuration Protocol (DHCP). DHCP allows devices to automatically obtain an IP address and other network configuration settings from a DHCP server.\\n\\nIP addresses play a crucial role in the functioning of the Internet by enabling the identification and location of devices on a network. They facilitate the routing of data packets between devices, ensuring that information reaches its intended destination.\"\n",
       " }\n",
       " role: \"model\"]"
      ]
     },
     "execution_count": 11,
     "metadata": {},
     "output_type": "execute_result"
    }
   ],
   "source": [
    "chat.history"
   ]
  },
  {
   "cell_type": "code",
   "execution_count": 12,
   "id": "88af2f9f-7628-461f-b064-b093de975b0b",
   "metadata": {
    "scrolled": true
   },
   "outputs": [
    {
     "data": {
      "text/plain": [
       "[parts {\n",
       "   text: \"In one paragraph, explain how the Internet works to a beginner.\"\n",
       " }\n",
       " role: \"user\",\n",
       " parts {\n",
       "   text: \"The Internet is a vast network of connected computers that allows information and data to be shared and exchanged globally. It functions through the transmission of data packets, which contain information broken into smaller chunks. These packets are sent from one computer to another through a series of routers and switches, which act as traffic directors, directing the packets along the most efficient path towards their destination. When the packets reach their target computer, they are reassembled to form the original message or data. This process is made possible by a system of unique IP addresses assigned to each device connected to the Internet, allowing for the identification and routing of packets to the correct destination.\"\n",
       " }\n",
       " role: \"model\",\n",
       " parts {\n",
       "   text: \"Okay, how about a more detailed explanation about the IP addresses?\"\n",
       " }\n",
       " role: \"user\",\n",
       " parts {\n",
       "   text: \"An IP address (Internet Protocol address) is a unique numerical label assigned to each device connected to a computer network that uses the Internet Protocol for communication. It serves two main functions: host or network interface identification and location addressing.\\n\\nIP addresses are expressed in a dotted-decimal format, consisting of four numbers separated by periods. Each number represents an octet, which is a group of eight binary digits. For example, the IP address \\\"192.168.1.1\\\" represents the binary number \\\"11000000.10101000.00000001.00000001\\\".\\n\\nIP addresses are categorized into two main types: IPv4 and IPv6. IPv4 is the most widely used version and uses 32-bit addresses, allowing for approximately 4.3 billion unique addresses. However, due to the rapid growth of the Internet and the increasing number of connected devices, IPv6 was developed to provide a much larger address space. IPv6 uses 128-bit addresses, allowing for an essentially limitless number of unique addresses.\\n\\nIP addresses are assigned to devices by network administrators or through a process called Dynamic Host Configuration Protocol (DHCP). DHCP allows devices to automatically obtain an IP address and other network configuration settings from a DHCP server.\\n\\nIP addresses play a crucial role in the functioning of the Internet by enabling the identification and location of devices on a network. They facilitate the routing of data packets between devices, ensuring that information reaches its intended destination.\"\n",
       " }\n",
       " role: \"model\",\n",
       " parts {\n",
       "   text: \"What have I asked you so far\"\n",
       " }\n",
       " role: \"user\",\n",
       " parts {\n",
       "   text: \"You have asked me the following questions so far:\\n\\n1. Explain how the Internet works to a beginner.\\n2. Provide a more detailed explanation about IP addresses.\\n\\nI have answered both of your questions to the best of my ability. Please let me know if you have any other questions or if there is anything else I can assist you with.\"\n",
       " }\n",
       " role: \"model\"]"
      ]
     },
     "execution_count": 12,
     "metadata": {},
     "output_type": "execute_result"
    }
   ],
   "source": [
    "# sending another prompt for the same conversation\n",
    "response = chat.send_message('What have I asked you so far')\n",
    "chat.history"
   ]
  },
  {
   "cell_type": "code",
   "execution_count": 16,
   "id": "4a5b8eb7-42d6-40ea-af07-6c48a9fe4e82",
   "metadata": {
    "scrolled": true
   },
   "outputs": [
    {
     "name": "stdout",
     "output_type": "stream",
     "text": [
      "You have asked me the following questions so far:\n",
      "\n",
      "1. Explain how the Internet works to a beginner.\n",
      "2. Provide a more detailed explanation about IP addresses.\n",
      "\n",
      "I have answered both of your questions to the best of my ability. Please let me know if you have any other questions or if there is anything else I can assist you with.\n"
     ]
    }
   ],
   "source": [
    "# displaying the last answer\n",
    "print(chat.history[-1].parts[0].text)"
   ]
  },
  {
   "cell_type": "code",
   "execution_count": 17,
   "id": "9fb05515-0ce8-42a3-a65e-02ae84dea3d0",
   "metadata": {
    "scrolled": true
   },
   "outputs": [
    {
     "name": "stdout",
     "output_type": "stream",
     "text": [
      "User: In one paragraph, explain how the Internet works to a beginner.\n",
      "----------------------------------------------------------------------------------------------------\n",
      "Model: The Internet is a vast network of connected computers that allows information and data to be shared and exchanged globally. It functions through the transmission of data packets, which contain information broken into smaller chunks. These packets are sent from one computer to another through a series of routers and switches, which act as traffic directors, directing the packets along the most efficient path towards their destination. When the packets reach their target computer, they are reassembled to form the original message or data. This process is made possible by a system of unique IP addresses assigned to each device connected to the Internet, allowing for the identification and routing of packets to the correct destination.\n",
      "----------------------------------------------------------------------------------------------------\n",
      "User: Okay, how about a more detailed explanation about the IP addresses?\n",
      "----------------------------------------------------------------------------------------------------\n",
      "Model: An IP address (Internet Protocol address) is a unique numerical label assigned to each device connected to a computer network that uses the Internet Protocol for communication. It serves two main functions: host or network interface identification and location addressing.\n",
      "\n",
      "IP addresses are expressed in a dotted-decimal format, consisting of four numbers separated by periods. Each number represents an octet, which is a group of eight binary digits. For example, the IP address \"192.168.1.1\" represents the binary number \"11000000.10101000.00000001.00000001\".\n",
      "\n",
      "IP addresses are categorized into two main types: IPv4 and IPv6. IPv4 is the most widely used version and uses 32-bit addresses, allowing for approximately 4.3 billion unique addresses. However, due to the rapid growth of the Internet and the increasing number of connected devices, IPv6 was developed to provide a much larger address space. IPv6 uses 128-bit addresses, allowing for an essentially limitless number of unique addresses.\n",
      "\n",
      "IP addresses are assigned to devices by network administrators or through a process called Dynamic Host Configuration Protocol (DHCP). DHCP allows devices to automatically obtain an IP address and other network configuration settings from a DHCP server.\n",
      "\n",
      "IP addresses play a crucial role in the functioning of the Internet by enabling the identification and location of devices on a network. They facilitate the routing of data packets between devices, ensuring that information reaches its intended destination.\n",
      "----------------------------------------------------------------------------------------------------\n",
      "User: What have I asked you so far\n",
      "----------------------------------------------------------------------------------------------------\n",
      "Model: You have asked me the following questions so far:\n",
      "\n",
      "1. Explain how the Internet works to a beginner.\n",
      "2. Provide a more detailed explanation about IP addresses.\n",
      "\n",
      "I have answered both of your questions to the best of my ability. Please let me know if you have any other questions or if there is anything else I can assist you with.\n",
      "----------------------------------------------------------------------------------------------------\n"
     ]
    }
   ],
   "source": [
    "# displaying the entire conversation using a for loop\n",
    "for item in chat.history:\n",
    "    print(f'{item.role.capitalize()}: {item.parts[0].text}')\n",
    "    print('-' * 100)"
   ]
  },
  {
   "cell_type": "markdown",
   "id": "bdb73b59",
   "metadata": {},
   "source": [
    "### Conversational Agent Using Gemini Pro"
   ]
  },
  {
   "cell_type": "code",
   "execution_count": 22,
   "id": "35f3b144-320a-4919-b668-89e3b325e6f1",
   "metadata": {},
   "outputs": [],
   "source": [
    "# Importing the libraries.\n",
    "import google.generativeai as genai\n",
    "import os\n",
    "from dotenv import load_dotenv, find_dotenv\n",
    "\n",
    "# Loading the API key and authenticating to Gemini.\n",
    "load_dotenv(find_dotenv(), override=True)\n",
    "os.environ.get('GOOGLE_API_KEY')\n",
    "\n",
    "# Configuring the API key.\n",
    "genai.configure(api_key=os.environ.get('GOOGLE_API_KEY'))\n"
   ]
  },
  {
   "cell_type": "code",
   "execution_count": 23,
   "id": "862d7a89-2c66-4759-8510-75ae31c59212",
   "metadata": {},
   "outputs": [
    {
     "name": "stdout",
     "output_type": "stream",
     "text": [
      "Quitting ...\n",
      "Bye-bye!\n"
     ]
    }
   ],
   "source": [
    "import time\n",
    "model = genai.GenerativeModel('gemini-pro')\n",
    "chat = model.start_chat(history=[])\n",
    "while True:\n",
    "    prompt = input('User: ')\n",
    "    if prompt.lower() not in ['exit', 'quit', 'bye']:\n",
    "        response = chat.send_message(prompt)\n",
    "        print(f'{chat.history[-1].role.capitalize()}: {chat.history[-1].parts[0].text}')\n",
    "        print('\\n' + '*' * 100 + '\\n')\n",
    "    else:\n",
    "        print('Quitting ...')\n",
    "        time.sleep(2)\n",
    "        print('Bye-bye!')\n",
    "        break\n",
    "        "
   ]
  },
  {
   "cell_type": "code",
   "execution_count": null,
   "id": "3b30f58c-e44d-4465-bbf3-711a142fcfca",
   "metadata": {},
   "outputs": [],
   "source": [
    "# full code\n",
    "\n",
    "# Importing the libraries.\n",
    "import google.generativeai as genai\n",
    "import os\n",
    "from dotenv import load_dotenv, find_dotenv\n",
    "\n",
    "# Loading the API key and authenticating to Gemini.\n",
    "load_dotenv(find_dotenv(), override=True)\n",
    "#os.environ.get('GOOGLE_API_KEY')\n",
    "\n",
    "# Configuring the API key.\n",
    "genai.configure(api_key=os.environ.get('GOOGLE_API_KEY'))\n",
    "\n",
    "\n",
    "import time\n",
    "model = genai.GenerativeModel('gemini-pro')\n",
    "chat = model.start_chat(history=[])\n",
    "while True:\n",
    "    prompt = input('User: ')\n",
    "    if prompt.lower() not in ['exit', 'quit', 'bye']:\n",
    "        response = chat.send_message(prompt)\n",
    "        print(f'{chat.history[-1].role.capitalize()}: {chat.history[-1].parts[0].text}')\n",
    "        print('\\n' + '*' * 100 + '\\n')\n",
    "    else:\n",
    "        print('Quitting ...')\n",
    "        time.sleep(2)\n",
    "        print('Bye-bye!')\n",
    "        break\n",
    "        "
   ]
  },
  {
   "cell_type": "code",
   "execution_count": null,
   "id": "e110bda9-78bc-4c23-93cf-6dec6fa2f330",
   "metadata": {},
   "outputs": [],
   "source": []
  }
 ],
 "metadata": {
  "kernelspec": {
   "display_name": "Python 3 (ipykernel)",
   "language": "python",
   "name": "python3"
  },
  "language_info": {
   "codemirror_mode": {
    "name": "ipython",
    "version": 3
   },
   "file_extension": ".py",
   "mimetype": "text/x-python",
   "name": "python",
   "nbconvert_exporter": "python",
   "pygments_lexer": "ipython3",
   "version": "3.11.3"
  }
 },
 "nbformat": 4,
 "nbformat_minor": 5
}
