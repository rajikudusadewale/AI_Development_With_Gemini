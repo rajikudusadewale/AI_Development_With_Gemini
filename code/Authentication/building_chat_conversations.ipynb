{
 "cells": [
  {
   "cell_type": "markdown",
   "id": "43466317-31c0-4093-b6cd-b26890697dad",
   "metadata": {},
   "source": [
    "## Building Chat Conversations\n",
    "\n",
    "Google AI Studio and the Gemini API aren't available in all countries.\n",
    "Check if the Gemini API is available in your country at this address: \n",
    "https://ai.google.dev/available_regions\n"
   ]
  },
  {
   "cell_type": "code",
   "execution_count": 1,
   "id": "a62d8715-277d-46a4-ae0c-16e2b35ac613",
   "metadata": {},
   "outputs": [],
   "source": [
    "# importing the libraries.\n",
    "import google.generativeai as genai\n",
    "import os\n",
    "from dotenv import load_dotenv, find_dotenv\n",
    "\n",
    "# loading the API key from .env and authenticating to Gemini.\n",
    "load_dotenv(find_dotenv(), override=True)\n",
    "os.environ.get('GOOGLE_API_KEY')\n",
    "\n",
    "# configuring the API key.\n",
    "genai.configure(api_key=os.environ.get('GOOGLE_API_KEY'))"
   ]
  },
  {
   "cell_type": "code",
   "execution_count": 2,
   "id": "ea7bf083-3042-4165-91b2-75e7172b3128",
   "metadata": {},
   "outputs": [
    {
     "data": {
      "text/plain": [
       "<google.generativeai.generative_models.ChatSession at 0x7286b1faa7d0>"
      ]
     },
     "execution_count": 2,
     "metadata": {},
     "output_type": "execute_result"
    }
   ],
   "source": [
    "model = genai.GenerativeModel('gemini-pro')\n",
    "\n",
    "# creating a ChatSession object\n",
    "# use the model.start_chat() method instead of model.generate_content() to start a multi-turn conversation\n",
    "chat = model.start_chat(history=[])  \n",
    "chat"
   ]
  },
  {
   "cell_type": "code",
   "execution_count": 3,
   "id": "4f249923-51fa-445d-9c13-c6d4638b1c18",
   "metadata": {},
   "outputs": [],
   "source": [
    "response = chat.send_message('In one paragraph, explain how the Internet works to a beginner.')"
   ]
  },
  {
   "cell_type": "code",
   "execution_count": 4,
   "id": "62413701-f982-4485-be72-079b59616190",
   "metadata": {
    "scrolled": true
   },
   "outputs": [
    {
     "data": {
      "text/plain": [
       "[parts {\n",
       "   text: \"In one paragraph, explain how the Internet works to a beginner.\"\n",
       " }\n",
       " role: \"user\",\n",
       " parts {\n",
       "   text: \"The Internet is a global network of interconnected computers that allows information to be shared and exchanged. It works by using a system of protocols, or rules, that allow computers to communicate with each other. When you type a web address into your browser, your computer sends a request to a domain name server (DNS), which translates the web address into the IP address of the server hosting the website. Your computer then sends a request to that server for the files that make up the website, and the server sends the files back to your computer. Your browser then displays the website on your screen.\"\n",
       " }\n",
       " role: \"model\"]"
      ]
     },
     "execution_count": 4,
     "metadata": {},
     "output_type": "execute_result"
    }
   ],
   "source": [
    "# displaying the entire chat history\n",
    "chat.history"
   ]
  },
  {
   "cell_type": "code",
   "execution_count": 5,
   "id": "19806e48-20d8-42d0-8266-ae81547862b9",
   "metadata": {
    "scrolled": true
   },
   "outputs": [
    {
     "data": {
      "text/plain": [
       "parts {\n",
       "  text: \"In one paragraph, explain how the Internet works to a beginner.\"\n",
       "}\n",
       "role: \"user\""
      ]
     },
     "execution_count": 5,
     "metadata": {},
     "output_type": "execute_result"
    }
   ],
   "source": [
    "# displaying the first user's question\n",
    "chat.history[0]"
   ]
  },
  {
   "cell_type": "code",
   "execution_count": 6,
   "id": "ed52f2f9-b6af-44c8-9dbd-571b36b0ac71",
   "metadata": {
    "scrolled": true
   },
   "outputs": [
    {
     "data": {
      "text/plain": [
       "parts {\n",
       "  text: \"The Internet is a global network of interconnected computers that allows information to be shared and exchanged. It works by using a system of protocols, or rules, that allow computers to communicate with each other. When you type a web address into your browser, your computer sends a request to a domain name server (DNS), which translates the web address into the IP address of the server hosting the website. Your computer then sends a request to that server for the files that make up the website, and the server sends the files back to your computer. Your browser then displays the website on your screen.\"\n",
       "}\n",
       "role: \"model\""
      ]
     },
     "execution_count": 6,
     "metadata": {},
     "output_type": "execute_result"
    }
   ],
   "source": [
    "# displaying the model's response\n",
    "chat.history[1]"
   ]
  },
  {
   "cell_type": "code",
   "execution_count": 7,
   "id": "789e1ae9-7dc1-4e22-91e7-e0ee701344ea",
   "metadata": {
    "scrolled": true
   },
   "outputs": [
    {
     "data": {
      "text/plain": [
       "'The Internet is a global network of interconnected computers that allows information to be shared and exchanged. It works by using a system of protocols, or rules, that allow computers to communicate with each other. When you type a web address into your browser, your computer sends a request to a domain name server (DNS), which translates the web address into the IP address of the server hosting the website. Your computer then sends a request to that server for the files that make up the website, and the server sends the files back to your computer. Your browser then displays the website on your screen.'"
      ]
     },
     "execution_count": 7,
     "metadata": {},
     "output_type": "execute_result"
    }
   ],
   "source": [
    "chat.history[1].parts[0].text"
   ]
  },
  {
   "cell_type": "code",
   "execution_count": 8,
   "id": "f7f74365-cb08-4818-bf60-d44ca9a687be",
   "metadata": {},
   "outputs": [],
   "source": [
    "# sending another prompt for the same conversation\n",
    "response = chat.send_message('Okay, how about a more detailed explanation about the IP addresses?')"
   ]
  },
  {
   "cell_type": "code",
   "execution_count": 9,
   "id": "5237a7ff-8696-4345-9e2e-c1eddc701fb6",
   "metadata": {
    "scrolled": true
   },
   "outputs": [
    {
     "data": {
      "text/plain": [
       "[parts {\n",
       "   text: \"In one paragraph, explain how the Internet works to a beginner.\"\n",
       " }\n",
       " role: \"user\",\n",
       " parts {\n",
       "   text: \"The Internet is a global network of interconnected computers that allows information to be shared and exchanged. It works by using a system of protocols, or rules, that allow computers to communicate with each other. When you type a web address into your browser, your computer sends a request to a domain name server (DNS), which translates the web address into the IP address of the server hosting the website. Your computer then sends a request to that server for the files that make up the website, and the server sends the files back to your computer. Your browser then displays the website on your screen.\"\n",
       " }\n",
       " role: \"model\",\n",
       " parts {\n",
       "   text: \"Okay, how about a more detailed explanation about the IP addresses?\"\n",
       " }\n",
       " role: \"user\",\n",
       " parts {\n",
       "   text: \"An IP address (Internet Protocol address) is a unique numerical label assigned to each device connected to a computer network that uses the Internet Protocol for communication. It serves two main purposes:\\n\\n1. **Identification:** IP addresses allow devices to identify each other on the network. Each device has its own unique IP address, which is used to distinguish it from other devices on the network.\\n\\n2. **Location:** IP addresses also provide information about the location of a device on the network. IP addresses are divided into two parts: the network address and the host address. The network address identifies the network to which the device is connected, while the host address identifies the specific device on that network.\\n\\nIP addresses can be either static or dynamic. Static IP addresses are permanently assigned to a device, while dynamic IP addresses are assigned temporarily. Dynamic IP addresses are more common, as they allow for more efficient use of IP addresses.\\n\\nWhen two devices want to communicate with each other over the Internet, they use their IP addresses to find each other. The source device sends a message to the destination device\\'s IP address. The message is then routed through a series of networks until it reaches the destination device.\\n\\nIP addresses are essential for the functioning of the Internet. Without IP addresses, devices would not be able to identify each other or communicate with each other.\\n\\nHere is a simplified analogy to help understand how IP addresses work:\\n\\nImagine a large city with many streets and buildings. Each building has a unique address that allows people to find it. In the same way, each device on the Internet has a unique IP address that allows other devices to find it and communicate with it.\"\n",
       " }\n",
       " role: \"model\"]"
      ]
     },
     "execution_count": 9,
     "metadata": {},
     "output_type": "execute_result"
    }
   ],
   "source": [
    "chat.history"
   ]
  },
  {
   "cell_type": "code",
   "execution_count": 10,
   "id": "88af2f9f-7628-461f-b064-b093de975b0b",
   "metadata": {
    "scrolled": true
   },
   "outputs": [
    {
     "data": {
      "text/plain": [
       "[parts {\n",
       "   text: \"In one paragraph, explain how the Internet works to a beginner.\"\n",
       " }\n",
       " role: \"user\",\n",
       " parts {\n",
       "   text: \"The Internet is a global network of interconnected computers that allows information to be shared and exchanged. It works by using a system of protocols, or rules, that allow computers to communicate with each other. When you type a web address into your browser, your computer sends a request to a domain name server (DNS), which translates the web address into the IP address of the server hosting the website. Your computer then sends a request to that server for the files that make up the website, and the server sends the files back to your computer. Your browser then displays the website on your screen.\"\n",
       " }\n",
       " role: \"model\",\n",
       " parts {\n",
       "   text: \"Okay, how about a more detailed explanation about the IP addresses?\"\n",
       " }\n",
       " role: \"user\",\n",
       " parts {\n",
       "   text: \"An IP address (Internet Protocol address) is a unique numerical label assigned to each device connected to a computer network that uses the Internet Protocol for communication. It serves two main purposes:\\n\\n1. **Identification:** IP addresses allow devices to identify each other on the network. Each device has its own unique IP address, which is used to distinguish it from other devices on the network.\\n\\n2. **Location:** IP addresses also provide information about the location of a device on the network. IP addresses are divided into two parts: the network address and the host address. The network address identifies the network to which the device is connected, while the host address identifies the specific device on that network.\\n\\nIP addresses can be either static or dynamic. Static IP addresses are permanently assigned to a device, while dynamic IP addresses are assigned temporarily. Dynamic IP addresses are more common, as they allow for more efficient use of IP addresses.\\n\\nWhen two devices want to communicate with each other over the Internet, they use their IP addresses to find each other. The source device sends a message to the destination device\\'s IP address. The message is then routed through a series of networks until it reaches the destination device.\\n\\nIP addresses are essential for the functioning of the Internet. Without IP addresses, devices would not be able to identify each other or communicate with each other.\\n\\nHere is a simplified analogy to help understand how IP addresses work:\\n\\nImagine a large city with many streets and buildings. Each building has a unique address that allows people to find it. In the same way, each device on the Internet has a unique IP address that allows other devices to find it and communicate with it.\"\n",
       " }\n",
       " role: \"model\",\n",
       " parts {\n",
       "   text: \"What have I asked you so far\"\n",
       " }\n",
       " role: \"user\",\n",
       " parts {\n",
       "   text: \"You have asked me the following questions so far:\\n\\n1. Explain how the Internet works to a beginner.\\n2. Give me a more detailed explanation about IP addresses.\\n3. What have I asked you so far\\n\\nI have answered each of your questions to the best of my ability.\\n\\nIs there anything else I can help you with today?\"\n",
       " }\n",
       " role: \"model\"]"
      ]
     },
     "execution_count": 10,
     "metadata": {},
     "output_type": "execute_result"
    }
   ],
   "source": [
    "# sending another prompt for the same conversation\n",
    "response = chat.send_message('What have I asked you so far')\n",
    "chat.history"
   ]
  },
  {
   "cell_type": "code",
   "execution_count": 11,
   "id": "4a5b8eb7-42d6-40ea-af07-6c48a9fe4e82",
   "metadata": {
    "scrolled": true
   },
   "outputs": [
    {
     "name": "stdout",
     "output_type": "stream",
     "text": [
      "You have asked me the following questions so far:\n",
      "\n",
      "1. Explain how the Internet works to a beginner.\n",
      "2. Give me a more detailed explanation about IP addresses.\n",
      "3. What have I asked you so far\n",
      "\n",
      "I have answered each of your questions to the best of my ability.\n",
      "\n",
      "Is there anything else I can help you with today?\n"
     ]
    }
   ],
   "source": [
    "# displaying the last answer\n",
    "print(chat.history[-1].parts[0].text)"
   ]
  },
  {
   "cell_type": "code",
   "execution_count": 12,
   "id": "9fb05515-0ce8-42a3-a65e-02ae84dea3d0",
   "metadata": {
    "scrolled": true
   },
   "outputs": [
    {
     "name": "stdout",
     "output_type": "stream",
     "text": [
      "User: In one paragraph, explain how the Internet works to a beginner.\n",
      "----------------------------------------------------------------------------------------------------\n",
      "Model: The Internet is a global network of interconnected computers that allows information to be shared and exchanged. It works by using a system of protocols, or rules, that allow computers to communicate with each other. When you type a web address into your browser, your computer sends a request to a domain name server (DNS), which translates the web address into the IP address of the server hosting the website. Your computer then sends a request to that server for the files that make up the website, and the server sends the files back to your computer. Your browser then displays the website on your screen.\n",
      "----------------------------------------------------------------------------------------------------\n",
      "User: Okay, how about a more detailed explanation about the IP addresses?\n",
      "----------------------------------------------------------------------------------------------------\n",
      "Model: An IP address (Internet Protocol address) is a unique numerical label assigned to each device connected to a computer network that uses the Internet Protocol for communication. It serves two main purposes:\n",
      "\n",
      "1. **Identification:** IP addresses allow devices to identify each other on the network. Each device has its own unique IP address, which is used to distinguish it from other devices on the network.\n",
      "\n",
      "2. **Location:** IP addresses also provide information about the location of a device on the network. IP addresses are divided into two parts: the network address and the host address. The network address identifies the network to which the device is connected, while the host address identifies the specific device on that network.\n",
      "\n",
      "IP addresses can be either static or dynamic. Static IP addresses are permanently assigned to a device, while dynamic IP addresses are assigned temporarily. Dynamic IP addresses are more common, as they allow for more efficient use of IP addresses.\n",
      "\n",
      "When two devices want to communicate with each other over the Internet, they use their IP addresses to find each other. The source device sends a message to the destination device's IP address. The message is then routed through a series of networks until it reaches the destination device.\n",
      "\n",
      "IP addresses are essential for the functioning of the Internet. Without IP addresses, devices would not be able to identify each other or communicate with each other.\n",
      "\n",
      "Here is a simplified analogy to help understand how IP addresses work:\n",
      "\n",
      "Imagine a large city with many streets and buildings. Each building has a unique address that allows people to find it. In the same way, each device on the Internet has a unique IP address that allows other devices to find it and communicate with it.\n",
      "----------------------------------------------------------------------------------------------------\n",
      "User: What have I asked you so far\n",
      "----------------------------------------------------------------------------------------------------\n",
      "Model: You have asked me the following questions so far:\n",
      "\n",
      "1. Explain how the Internet works to a beginner.\n",
      "2. Give me a more detailed explanation about IP addresses.\n",
      "3. What have I asked you so far\n",
      "\n",
      "I have answered each of your questions to the best of my ability.\n",
      "\n",
      "Is there anything else I can help you with today?\n",
      "----------------------------------------------------------------------------------------------------\n"
     ]
    }
   ],
   "source": [
    "# displaying the entire conversation using a for loop\n",
    "for item in chat.history:\n",
    "    print(f'{item.role.capitalize()}: {item.parts[0].text}')\n",
    "    print('-' * 100)"
   ]
  },
  {
   "cell_type": "code",
   "execution_count": 13,
   "id": "35f3b144-320a-4919-b668-89e3b325e6f1",
   "metadata": {},
   "outputs": [],
   "source": [
    "# Importing the libraries.\n",
    "import google.generativeai as genai\n",
    "import os\n",
    "from dotenv import load_dotenv, find_dotenv\n",
    "\n",
    "# Loading the API key and authenticating to Gemini.\n",
    "load_dotenv(find_dotenv(), override=True)\n",
    "os.environ.get('GOOGLE_API_KEY')\n",
    "\n",
    "# Configuring the API key.\n",
    "genai.configure(api_key=os.environ.get('GOOGLE_API_KEY'))\n"
   ]
  },
  {
   "cell_type": "code",
   "execution_count": null,
   "id": "862d7a89-2c66-4759-8510-75ae31c59212",
   "metadata": {},
   "outputs": [],
   "source": [
    "import time\n",
    "model = genai.GenerativeModel('gemini-pro')\n",
    "chat = model.start_chat(history=[])\n",
    "while True:\n",
    "    prompt = input('User: ')\n",
    "    if prompt.lower() not in ['exit', 'quit', 'bye']:\n",
    "        response = chat.send_message(prompt)\n",
    "        print(f'{chat.history[-1].role.capitalize()}: {chat.history[-1].parts[0].text}')\n",
    "        print('\\n' + '*' * 100 + '\\n')\n",
    "    else:\n",
    "        print('Quitting ...')\n",
    "        time.sleep(2)\n",
    "        print('Bye-bye!')\n",
    "        break\n",
    "        "
   ]
  },
  {
   "cell_type": "code",
   "execution_count": null,
   "id": "3b30f58c-e44d-4465-bbf3-711a142fcfca",
   "metadata": {},
   "outputs": [],
   "source": []
  },
  {
   "cell_type": "code",
   "execution_count": null,
   "id": "e110bda9-78bc-4c23-93cf-6dec6fa2f330",
   "metadata": {},
   "outputs": [],
   "source": []
  }
 ],
 "metadata": {
  "kernelspec": {
   "display_name": "Python 3 (ipykernel)",
   "language": "python",
   "name": "python3"
  },
  "language_info": {
   "codemirror_mode": {
    "name": "ipython",
    "version": 3
   },
   "file_extension": ".py",
   "mimetype": "text/x-python",
   "name": "python",
   "nbconvert_exporter": "python",
   "pygments_lexer": "ipython3",
   "version": "3.10.12"
  }
 },
 "nbformat": 4,
 "nbformat_minor": 5
}
